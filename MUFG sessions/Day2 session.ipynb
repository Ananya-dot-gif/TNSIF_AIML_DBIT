{
 "cells": [
  {
   "cell_type": "code",
   "execution_count": 1,
   "id": "9bef3b93-9175-4d0a-a925-13d70bc43c75",
   "metadata": {},
   "outputs": [
    {
     "name": "stdin",
     "output_type": "stream",
     "text": [
      "Enter a number:  45\n"
     ]
    },
    {
     "name": "stdout",
     "output_type": "stream",
     "text": [
      "Current sum:45\n"
     ]
    },
    {
     "name": "stdin",
     "output_type": "stream",
     "text": [
      "Enter a number:  56\n"
     ]
    },
    {
     "name": "stdout",
     "output_type": "stream",
     "text": [
      "Current sum:101\n"
     ]
    },
    {
     "name": "stdin",
     "output_type": "stream",
     "text": [
      "Enter a number:  234\n"
     ]
    },
    {
     "name": "stdout",
     "output_type": "stream",
     "text": [
      "Current sum:335\n",
      "Sum has exceeded 300\n"
     ]
    }
   ],
   "source": [
    "#accept number from user and print sum which doesnt exceed 300\n",
    "sum = 0\n",
    "while True:\n",
    "    num = int(input(\"Enter a number: \"))\n",
    "    sum += num \n",
    "    print(f\"Current sum:{sum}\")\n",
    "    if sum >= 300:\n",
    "        print(\"Sum has exceeded 300\")\n",
    "        break"
   ]
  },
  {
   "cell_type": "code",
   "execution_count": 2,
   "id": "cc6059a2-a80b-4bdc-88cf-03c8749028b3",
   "metadata": {},
   "outputs": [
    {
     "name": "stdin",
     "output_type": "stream",
     "text": [
      "Enter the string BOn\n",
      "Enter the string Bon\n"
     ]
    },
    {
     "name": "stdout",
     "output_type": "stream",
     "text": [
      "Voyage\n"
     ]
    }
   ],
   "source": [
    "#when user enters Bon,Voyage has to be printed\n",
    "while True:\n",
    "    s = input(\"Enter the string\")\n",
    "    if s == \"Bon\":\n",
    "        print(\"Voyage\")\n",
    "        break"
   ]
  },
  {
   "cell_type": "code",
   "execution_count": 3,
   "id": "e0f76911-dd49-46e8-ad91-dca63eb696ee",
   "metadata": {},
   "outputs": [
    {
     "name": "stdin",
     "output_type": "stream",
     "text": [
      "Enter your door number and street:  123Ananya\n"
     ]
    },
    {
     "name": "stdout",
     "output_type": "stream",
     "text": [
      "123"
     ]
    }
   ],
   "source": [
    "#when user enters number and name of street,number has to be printed\n",
    "adrs = input(\"Enter your door number and street: \")\n",
    "number = \"\"\n",
    "for ch in adrs:\n",
    "    if ch>='0' and ch<='9':\n",
    "        print(ch,end='')"
   ]
  },
  {
   "cell_type": "code",
   "execution_count": 4,
   "id": "a1925f56-b5c4-4af4-bc2b-fc0402920a8b",
   "metadata": {},
   "outputs": [
    {
     "name": "stdin",
     "output_type": "stream",
     "text": [
      "Enter your name:  Ananya\n"
     ]
    },
    {
     "name": "stdout",
     "output_type": "stream",
     "text": [
      "A\n",
      "n\n",
      "n\n",
      "y\n"
     ]
    }
   ],
   "source": [
    "#accept name from user and print consonents\n",
    "n = input(\"Enter your name: \")\n",
    "for i in n:\n",
    "    if i=='a' or i=='e' or i=='i' or i=='o' or i=='u':\n",
    "        continue\n",
    "    else:\n",
    "        print(i)"
   ]
  },
  {
   "cell_type": "code",
   "execution_count": 5,
   "id": "28ab8706-a36f-43bf-9884-7f63e5582cd6",
   "metadata": {},
   "outputs": [
    {
     "name": "stdin",
     "output_type": "stream",
     "text": [
      "Enter item 1:  eutb\n",
      "Enter item 2:  hihu\n",
      "Enter item 3:  huhuh\n",
      "Enter item 4:  huhuh\n",
      "Enter item 5:  huiop\n",
      "Enter your name:  Ananya\n"
     ]
    },
    {
     "name": "stdout",
     "output_type": "stream",
     "text": [
      "Updated list: ['eutb', 'hihu', 'Ananya', 'huhuh', 'Ananya']\n"
     ]
    }
   ],
   "source": [
    "#in the usser entered 5 lists,3rd and 5th elements have to be replaced by user entered name\n",
    "lst = []\n",
    "for i in range(5):\n",
    "    element = input(f\"Enter item {i+1}: \")\n",
    "    lst.append(element)\n",
    "name = input(\"Enter your name: \")\n",
    "lst[2] = name\n",
    "lst[4] = name\n",
    "print(\"Updated list:\", lst)"
   ]
  },
  {
   "cell_type": "code",
   "execution_count": 6,
   "id": "f6679120-0013-4c94-bc8e-e88e13db54b4",
   "metadata": {},
   "outputs": [
    {
     "data": {
      "text/plain": [
       "[20, 21, 22, 23, 24]"
      ]
     },
     "execution_count": 6,
     "metadata": {},
     "output_type": "execute_result"
    }
   ],
   "source": [
    "li=list(range(20,25))\n",
    "li"
   ]
  },
  {
   "cell_type": "code",
   "execution_count": 7,
   "id": "781fad25-d789-4c08-890b-f57ae6934a1a",
   "metadata": {},
   "outputs": [
    {
     "data": {
      "text/plain": [
       "[20, 21, 22, 23, 24, 26]"
      ]
     },
     "execution_count": 7,
     "metadata": {},
     "output_type": "execute_result"
    }
   ],
   "source": [
    "li.append(26)\n",
    "li"
   ]
  },
  {
   "cell_type": "code",
   "execution_count": 8,
   "id": "f82f6000-6444-441c-9576-4936f39f4fd4",
   "metadata": {},
   "outputs": [
    {
     "data": {
      "text/plain": [
       "[20, 21, 100, 23, 24, 26]"
      ]
     },
     "execution_count": 8,
     "metadata": {},
     "output_type": "execute_result"
    }
   ],
   "source": [
    "li[2]=100\n",
    "li"
   ]
  },
  {
   "cell_type": "code",
   "execution_count": 9,
   "id": "066880fe-4d1a-45e4-bf81-a7b3ac92ed04",
   "metadata": {},
   "outputs": [
    {
     "data": {
      "text/plain": [
       "23"
      ]
     },
     "execution_count": 9,
     "metadata": {},
     "output_type": "execute_result"
    }
   ],
   "source": [
    "li[3]"
   ]
  },
  {
   "cell_type": "code",
   "execution_count": 10,
   "id": "9778ca93-5e39-4a4c-88bb-2faae17aa7d9",
   "metadata": {},
   "outputs": [
    {
     "data": {
      "text/plain": [
       "[20, 0, 21, 100, 23, 24, 26]"
      ]
     },
     "execution_count": 10,
     "metadata": {},
     "output_type": "execute_result"
    }
   ],
   "source": [
    "li.insert(1,0)\n",
    "li"
   ]
  },
  {
   "cell_type": "code",
   "execution_count": 11,
   "id": "91ad9523-a9b8-4bb7-9565-2a0840fb5a3b",
   "metadata": {},
   "outputs": [
    {
     "data": {
      "text/plain": [
       "[20, 21, 100, 23, 24, 26]"
      ]
     },
     "execution_count": 11,
     "metadata": {},
     "output_type": "execute_result"
    }
   ],
   "source": [
    "li\n",
    "del li[1]\n",
    "li"
   ]
  },
  {
   "cell_type": "code",
   "execution_count": 12,
   "id": "6b8284e6-13c3-4d8f-85c3-b0039d816b81",
   "metadata": {},
   "outputs": [
    {
     "data": {
      "text/plain": [
       "[20, 21, 100, 23, 24]"
      ]
     },
     "execution_count": 12,
     "metadata": {},
     "output_type": "execute_result"
    }
   ],
   "source": [
    "li.pop()\n",
    "li\n",
    "#integers can only be deleted..without entering anything in () LAST element is deleted"
   ]
  },
  {
   "cell_type": "code",
   "execution_count": 13,
   "id": "cca8604c-8f06-48bd-875d-428220fae7ea",
   "metadata": {},
   "outputs": [
    {
     "data": {
      "text/plain": [
       "['red', 'blue']"
      ]
     },
     "execution_count": 13,
     "metadata": {},
     "output_type": "execute_result"
    }
   ],
   "source": [
    "li1=['red','blue']\n",
    "li1"
   ]
  },
  {
   "cell_type": "code",
   "execution_count": 14,
   "id": "830787f1-c46f-4592-8403-39215825449f",
   "metadata": {},
   "outputs": [
    {
     "data": {
      "text/plain": [
       "['blue']"
      ]
     },
     "execution_count": 14,
     "metadata": {},
     "output_type": "execute_result"
    }
   ],
   "source": [
    "li1.remove('red')\n",
    "li1\n",
    "#remove string from list"
   ]
  },
  {
   "cell_type": "code",
   "execution_count": null,
   "id": "f9d26f4e-c19d-48e8-a1e5-ab4bb4ecf69c",
   "metadata": {},
   "outputs": [],
   "source": []
  }
 ],
 "metadata": {
  "kernelspec": {
   "display_name": "Python 3 (ipykernel)",
   "language": "python",
   "name": "python3"
  },
  "language_info": {
   "codemirror_mode": {
    "name": "ipython",
    "version": 3
   },
   "file_extension": ".py",
   "mimetype": "text/x-python",
   "name": "python",
   "nbconvert_exporter": "python",
   "pygments_lexer": "ipython3",
   "version": "3.11.7"
  }
 },
 "nbformat": 4,
 "nbformat_minor": 5
}
