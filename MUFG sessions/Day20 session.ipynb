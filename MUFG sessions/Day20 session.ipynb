{
 "cells": [
  {
   "cell_type": "code",
   "execution_count": 8,
   "id": "d5213ae9-69c9-4b6f-9b9f-e33677a469cd",
   "metadata": {},
   "outputs": [
    {
     "name": "stdout",
     "output_type": "stream",
     "text": [
      "1: Transactions\n",
      "Transaction 1: ['Coffee', 'Donut', 'Sandwich']\n",
      "Transaction 2: ['Coffee', 'Donut']\n",
      "Transaction 3: ['Coffee', 'Sandwich']\n",
      "Transaction 4: ['Coffee', 'Muffin']\n",
      "Transaction 5: ['Donut', 'Muffin']\n",
      "\n",
      "2: One-Hot Encoded DataFrame\n",
      "   Coffee  Donut  Muffin  Sandwich\n",
      "0       1      1       0         1\n",
      "1       1      1       0         0\n",
      "2       1      0       0         1\n",
      "3       1      0       1         0\n",
      "4       0      1       1         0\n",
      "\n",
      "3: Frequent Itemsets\n",
      "   support            itemsets\n",
      "0      0.8            (Coffee)\n",
      "1      0.6             (Donut)\n",
      "2      0.4            (Muffin)\n",
      "3      0.4          (Sandwich)\n",
      "4      0.4     (Coffee, Donut)\n",
      "5      0.4  (Coffee, Sandwich)\n",
      "\n",
      "4: Association Rules\n",
      "  antecedents consequents  support  confidence      lift\n",
      "0     (Donut)    (Coffee)      0.4    0.666667  0.833333\n",
      "1  (Sandwich)    (Coffee)      0.4    1.000000  1.250000\n",
      "\n",
      "5: ({Sandwich} {Coffee}) satisfy both minimum support (0.4) and minimum confidence (0.6)\n"
     ]
    }
   ],
   "source": [
    "#apriori algorithm example(coffee shop)\n",
    "\n",
    "import pandas as pd\n",
    "from mlxtend.preprocessing import TransactionEncoder\n",
    "from mlxtend.frequent_patterns import apriori, association_rules\n",
    "\n",
    "# 1. What does the dataset represent? List all the transactions clearly.\n",
    "dataset = [\n",
    "    ['Coffee', 'Donut', 'Sandwich'],\n",
    "    ['Coffee', 'Donut'],\n",
    "    ['Coffee', 'Sandwich'],\n",
    "    ['Coffee', 'Muffin'],\n",
    "    ['Donut', 'Muffin']\n",
    "]\n",
    "\n",
    "print(\"1: Transactions\")\n",
    "for i, transaction in enumerate(dataset, 1):\n",
    "    print(f\"Transaction {i}: {transaction}\")\n",
    "\n",
    "\n",
    "#2. Convert the dataset into a one-hot encoded DataFrame. What does each column and row represent?\n",
    "te = TransactionEncoder()\n",
    "te_array = te.fit(dataset).transform(dataset)\n",
    "df = pd.DataFrame(te_array, columns=te.columns_)\n",
    "print(\"\\n2: One-Hot Encoded DataFrame\")\n",
    "print(df.astype(int))\n",
    "\n",
    "#3. With minimum support = 0.4, identify all frequent itemsets. Show their support values.s\n",
    "frequent_itemsets = apriori(df, min_support=0.4, use_colnames=True)\n",
    "print(\"\\n3: Frequent Itemsets\")\n",
    "print(frequent_itemsets)\n",
    "\n",
    "#4. From the frequent itemsets, generate all possible association rules. List their support, confidence, and lift.\n",
    "rules = association_rules(frequent_itemsets, metric=\"confidence\", min_threshold=0.6)\n",
    "print(\"\\n4: Association Rules\")\n",
    "print(rules[['antecedents', 'consequents', 'support', 'confidence', 'lift']])\n",
    "\n",
    "#5. Which rules satisfy both minimum support (0.4) and minimum confidence (0.6)?\n",
    "print(\"\\n5: ({Sandwich} {Coffee}) satisfy both minimum support (0.4) and minimum confidence (0.6)\")\n",
    "\n",
    "#6. Interpret one strong rule in words. For example: If a customer buys X, they are likely to buy Y.\n",
    "print(\"\\n6: If a customer buys Sandwich, they are likely to buy Coffee. (Support: 0.4, Confidence: 0.67)\")\n",
    "\n",
    "#7. How does changing min_support or min_conf affect the number of rules generated? \n",
    "print(\"\"\"Lowering min_support or min_confidence increases the number of rules generated, \n",
    "while increasing them reduces the number of rules by filtering out less frequent or weaker associations.\"\"\")\n",
    "\n",
    "\n",
    "\n"
   ]
  },
  {
   "cell_type": "code",
   "execution_count": null,
   "id": "419e3095-774a-4d52-b710-ecfcda1f8ca5",
   "metadata": {},
   "outputs": [],
   "source": []
  }
 ],
 "metadata": {
  "kernelspec": {
   "display_name": "Python 3 (ipykernel)",
   "language": "python",
   "name": "python3"
  },
  "language_info": {
   "codemirror_mode": {
    "name": "ipython",
    "version": 3
   },
   "file_extension": ".py",
   "mimetype": "text/x-python",
   "name": "python",
   "nbconvert_exporter": "python",
   "pygments_lexer": "ipython3",
   "version": "3.11.7"
  }
 },
 "nbformat": 4,
 "nbformat_minor": 5
}
