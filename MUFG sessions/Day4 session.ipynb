{
 "cells": [
  {
   "cell_type": "code",
   "execution_count": 1,
   "id": "7bdbdf6b-f75f-41cf-bbaa-5593b25a5359",
   "metadata": {},
   "outputs": [
    {
     "name": "stdout",
     "output_type": "stream",
     "text": [
      "{'Harry': 8796543908, 'Sima': 9888765490, 'Rita': 6779765312}\n"
     ]
    },
    {
     "name": "stdin",
     "output_type": "stream",
     "text": [
      "Enter the name to be modified Harry\n",
      "Enter modified number 7890765432\n"
     ]
    },
    {
     "name": "stdout",
     "output_type": "stream",
     "text": [
      "Modified successfully\n",
      "{'Harry': '7890765432', 'Sima': 9888765490, 'Rita': 6779765312}\n"
     ]
    }
   ],
   "source": [
    "#update existing phonenumber dictionary\n",
    "phonebook={\"Harry\":8796543908,\"Sima\":9888765490,\"Rita\":6779765312}\n",
    "print(phonebook)\n",
    "name=input(\"Enter the name to be modified\")\n",
    "if name in phonebook:\n",
    "    newnum=input(\"Enter modified number\")\n",
    "    phonebook[name] = newnum\n",
    "    print(\"Modified successfully\")\n",
    "    print(phonebook)\n",
    "else:\n",
    "    print(name, \"was not found.\")"
   ]
  },
  {
   "cell_type": "code",
   "execution_count": 2,
   "id": "89a7139f-dd1c-4627-9cc0-2e505ea4bba0",
   "metadata": {},
   "outputs": [
    {
     "name": "stdout",
     "output_type": "stream",
     "text": [
      "{'Harry': 8796543908, 'Sima': 9888765490, 'Rita': 6779765312}\n",
      "{'Harry': 9807646889, 'Sima': 9888765490, 'Rita': 6779765312}\n",
      "{'Harry': 9807646889, 'Sima': 9888765490, 'Rita': 6779765312, 'Amir': 8976543210}\n"
     ]
    }
   ],
   "source": [
    "#Add Amir and his nuumber..Key value pair to be added\n",
    "phonebook={\"Harry\":8796543908,\"Sima\":9888765490,\"Rita\":6779765312}\n",
    "print(phonebook)\n",
    "phonebook[\"Harry\"]=9807646889\n",
    "print(phonebook)\n",
    "phonebook.update({\"Amir\":8976543210})\n",
    "print(phonebook)\n"
   ]
  },
  {
   "cell_type": "code",
   "execution_count": 3,
   "id": "a5b88257-e0b5-481e-9aea-2347723a6d31",
   "metadata": {},
   "outputs": [
    {
     "name": "stdout",
     "output_type": "stream",
     "text": [
      "{'Harry': 8796543908, 'Sima': 9888765490, 'Rita': 6779765312}\n"
     ]
    },
    {
     "name": "stdin",
     "output_type": "stream",
     "text": [
      "Enter the name to be modified Harry\n"
     ]
    },
    {
     "name": "stdout",
     "output_type": "stream",
     "text": [
      "Deleted successfully\n",
      "{'Sima': 9888765490, 'Rita': 6779765312}\n"
     ]
    }
   ],
   "source": [
    "#Deleting Key value pair\n",
    "phonebook={\"Harry\":8796543908,\"Sima\":9888765490,\"Rita\":6779765312}\n",
    "print(phonebook)\n",
    "name=input(\"Enter the name to be modified\")\n",
    "if name in phonebook:\n",
    "    del phonebook[name]\n",
    "    print(\"Deleted successfully\")\n",
    "    print(phonebook)\n",
    "else:\n",
    "    print(name, \"was not found\")"
   ]
  },
  {
   "cell_type": "code",
   "execution_count": 4,
   "id": "532028a3-67d0-422c-bd41-750cba30d301",
   "metadata": {},
   "outputs": [
    {
     "name": "stdout",
     "output_type": "stream",
     "text": [
      "{'Harry': 8796543908, 'Sima': 9888765490, 'Rita': 6779765312}\n"
     ]
    },
    {
     "ename": "NameError",
     "evalue": "name 'phonebook' is not defined",
     "output_type": "error",
     "traceback": [
      "\u001b[1;31m---------------------------------------------------------------------------\u001b[0m",
      "\u001b[1;31mNameError\u001b[0m                                 Traceback (most recent call last)",
      "Cell \u001b[1;32mIn[4], line 5\u001b[0m\n\u001b[0;32m      3\u001b[0m \u001b[38;5;28mprint\u001b[39m(phonebook)\n\u001b[0;32m      4\u001b[0m \u001b[38;5;28;01mdel\u001b[39;00m phonebook\n\u001b[1;32m----> 5\u001b[0m \u001b[38;5;28mprint\u001b[39m(phonebook)\n",
      "\u001b[1;31mNameError\u001b[0m: name 'phonebook' is not defined"
     ]
    }
   ],
   "source": [
    "#Trying to delete whole dictionary\n",
    "phonebook={\"Harry\":8796543908,\"Sima\":9888765490,\"Rita\":6779765312}\n",
    "print(phonebook)\n",
    "del phonebook\n",
    "print(phonebook)"
   ]
  },
  {
   "cell_type": "code",
   "execution_count": 5,
   "id": "afcd43c1-aac1-463a-b625-7993f9a2b88f",
   "metadata": {},
   "outputs": [
    {
     "ename": "NameError",
     "evalue": "name 'phonebook' is not defined",
     "output_type": "error",
     "traceback": [
      "\u001b[1;31m---------------------------------------------------------------------------\u001b[0m",
      "\u001b[1;31mNameError\u001b[0m                                 Traceback (most recent call last)",
      "Cell \u001b[1;32mIn[5], line 1\u001b[0m\n\u001b[1;32m----> 1\u001b[0m \u001b[38;5;28mlen\u001b[39m(phonebook)\n",
      "\u001b[1;31mNameError\u001b[0m: name 'phonebook' is not defined"
     ]
    }
   ],
   "source": [
    "len(phonebook)"
   ]
  },
  {
   "cell_type": "code",
   "execution_count": 6,
   "id": "285509c1-94f0-4003-bcc6-f4c5ffe44971",
   "metadata": {},
   "outputs": [
    {
     "name": "stdout",
     "output_type": "stream",
     "text": [
      "{'Harry': 8796543908, 'Sima': 9888765490, 'Rita': 6779765312}\n"
     ]
    }
   ],
   "source": [
    "phonebook={\"Harry\":8796543908,\"Sima\":9888765490,\"Rita\":6779765312}\n",
    "print(phonebook)"
   ]
  },
  {
   "cell_type": "code",
   "execution_count": 7,
   "id": "62c741e4-23c8-4d21-b71a-c8bdc3bd8c49",
   "metadata": {},
   "outputs": [
    {
     "data": {
      "text/plain": [
       "3"
      ]
     },
     "execution_count": 7,
     "metadata": {},
     "output_type": "execute_result"
    }
   ],
   "source": [
    "len(phonebook)"
   ]
  },
  {
   "cell_type": "code",
   "execution_count": 8,
   "id": "0fef46a4-3d6f-4d9b-b339-942d3ee2b9be",
   "metadata": {},
   "outputs": [
    {
     "data": {
      "text/plain": [
       "\"{'Harry': 8796543908, 'Sima': 9888765490, 'Rita': 6779765312}\""
      ]
     },
     "execution_count": 8,
     "metadata": {},
     "output_type": "execute_result"
    }
   ],
   "source": [
    "str(phonebook)"
   ]
  },
  {
   "cell_type": "code",
   "execution_count": 9,
   "id": "bbdc0806-e6a1-4190-958b-d91175349e87",
   "metadata": {},
   "outputs": [
    {
     "name": "stdout",
     "output_type": "stream",
     "text": [
      "{}\n"
     ]
    }
   ],
   "source": [
    "phonebook.clear()\n",
    "print(phonebook)"
   ]
  },
  {
   "cell_type": "code",
   "execution_count": 10,
   "id": "bc931c72-88b6-4e92-9436-ff09637dc93a",
   "metadata": {},
   "outputs": [
    {
     "name": "stdout",
     "output_type": "stream",
     "text": [
      "{'Harry': 8796543908, 'Sima': 9888765490, 'Rita': 6779765312}\n"
     ]
    }
   ],
   "source": [
    "phonebook={\"Harry\":8796543908,\"Sima\":9888765490,\"Rita\":6779765312}\n",
    "print(phonebook)"
   ]
  },
  {
   "cell_type": "code",
   "execution_count": 11,
   "id": "77352105-1df2-4655-84c1-3ec3ad0a7791",
   "metadata": {},
   "outputs": [
    {
     "data": {
      "text/plain": [
       "dict_keys(['Harry', 'Sima', 'Rita'])"
      ]
     },
     "execution_count": 11,
     "metadata": {},
     "output_type": "execute_result"
    }
   ],
   "source": [
    "phonebook.keys()"
   ]
  },
  {
   "cell_type": "code",
   "execution_count": 12,
   "id": "eee590dc-3ff4-4fd3-b917-dc59c4a65371",
   "metadata": {},
   "outputs": [
    {
     "data": {
      "text/plain": [
       "dict_values([8796543908, 9888765490, 6779765312])"
      ]
     },
     "execution_count": 12,
     "metadata": {},
     "output_type": "execute_result"
    }
   ],
   "source": [
    "phonebook.values()"
   ]
  },
  {
   "cell_type": "code",
   "execution_count": null,
   "id": "85fdcf44-7b23-45ef-8f9c-5f7fa0ea23b7",
   "metadata": {},
   "outputs": [],
   "source": []
  }
 ],
 "metadata": {
  "kernelspec": {
   "display_name": "Python 3 (ipykernel)",
   "language": "python",
   "name": "python3"
  },
  "language_info": {
   "codemirror_mode": {
    "name": "ipython",
    "version": 3
   },
   "file_extension": ".py",
   "mimetype": "text/x-python",
   "name": "python",
   "nbconvert_exporter": "python",
   "pygments_lexer": "ipython3",
   "version": "3.11.7"
  }
 },
 "nbformat": 4,
 "nbformat_minor": 5
}
