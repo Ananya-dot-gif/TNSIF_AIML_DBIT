{
 "cells": [
  {
   "cell_type": "code",
   "execution_count": 1,
   "id": "520f65da-dfde-4675-9d0d-f69283a59966",
   "metadata": {},
   "outputs": [
    {
     "name": "stdin",
     "output_type": "stream",
     "text": [
      "Enter PIN:  4567\n"
     ]
    },
    {
     "name": "stdout",
     "output_type": "stream",
     "text": [
      "Wrong PIN\n"
     ]
    },
    {
     "name": "stdin",
     "output_type": "stream",
     "text": [
      "Enter PIN:  5678'\n"
     ]
    },
    {
     "name": "stdout",
     "output_type": "stream",
     "text": [
      "Wrong PIN\n"
     ]
    },
    {
     "name": "stdin",
     "output_type": "stream",
     "text": [
      "Enter PIN:  7890\n"
     ]
    },
    {
     "name": "stdout",
     "output_type": "stream",
     "text": [
      "Wrong PIN\n",
      "Too many wrong attempts\n"
     ]
    }
   ],
   "source": [
    "#ATM Simulation\n",
    "pin = \"1234\"\n",
    "balance = 5000\n",
    "\n",
    "for i in range(3):\n",
    "    entered = input(\"Enter PIN: \")\n",
    "    if entered == pin:\n",
    "        print(\"\\n1. Check Balance\\n2. Deposit\\n3. Withdraw\")\n",
    "        choice = input(\"Choose (1/2/3): \")\n",
    "        \n",
    "        if choice == \"1\":\n",
    "            print(\"Balance:\", balance)\n",
    "        elif choice == \"2\":\n",
    "            amt = int(input(\"Deposit amount: \"))\n",
    "            balance += amt\n",
    "            print(\"New Balance:\", balance)\n",
    "        elif choice == \"3\":\n",
    "            amt = int(input(\"Withdraw amount: \"))\n",
    "            balance -= amt\n",
    "            print(\"New Balance:\", balance)\n",
    "            \n",
    "        else:\n",
    "            print(\"Invalid choice\")\n",
    "        break\n",
    "    else:\n",
    "        print(\"Wrong PIN\")\n",
    "\n",
    "else:\n",
    "    print(\"Too many wrong attempts\")"
   ]
  },
  {
   "cell_type": "code",
   "execution_count": 2,
   "id": "cc87b91c-bb7e-4b18-8fb5-f8f44edf9b89",
   "metadata": {},
   "outputs": [
    {
     "name": "stdin",
     "output_type": "stream",
     "text": [
      "Enter PIN:  1234\n"
     ]
    },
    {
     "name": "stdout",
     "output_type": "stream",
     "text": [
      "\n",
      "1. Check Balance\n",
      "2. Deposit\n",
      "3. Withdraw\n"
     ]
    },
    {
     "name": "stdin",
     "output_type": "stream",
     "text": [
      "Choose (1/2/3):  1\n"
     ]
    },
    {
     "name": "stdout",
     "output_type": "stream",
     "text": [
      "Balance: 5000\n"
     ]
    }
   ],
   "source": [
    "#ATM Simulation\n",
    "pin = \"1234\"\n",
    "balance = 5000\n",
    "\n",
    "for i in range(3):\n",
    "    entered = input(\"Enter PIN: \")\n",
    "    if entered == pin:\n",
    "        print(\"\\n1. Check Balance\\n2. Deposit\\n3. Withdraw\")\n",
    "        choice = input(\"Choose (1/2/3): \")\n",
    "        \n",
    "        if choice == \"1\":\n",
    "            print(\"Balance:\", balance)\n",
    "        elif choice == \"2\":\n",
    "            amt = int(input(\"Deposit amount: \"))\n",
    "            balance += amt\n",
    "            print(\"New Balance:\", balance)\n",
    "        elif choice == \"3\":\n",
    "            amt = int(input(\"Withdraw amount: \"))\n",
    "            balance -= amt\n",
    "            print(\"New Balance:\", balance)\n",
    "            \n",
    "        else:\n",
    "            print(\"Invalid choice\")\n",
    "        break\n",
    "    else:\n",
    "        print(\"Wrong PIN\")\n",
    "\n",
    "else:\n",
    "    print(\"Too many wrong attempts\")"
   ]
  },
  {
   "cell_type": "code",
   "execution_count": null,
   "id": "f15af55f-3bf8-479b-989a-1bb8ccb4228e",
   "metadata": {},
   "outputs": [],
   "source": []
  }
 ],
 "metadata": {
  "kernelspec": {
   "display_name": "Python 3 (ipykernel)",
   "language": "python",
   "name": "python3"
  },
  "language_info": {
   "codemirror_mode": {
    "name": "ipython",
    "version": 3
   },
   "file_extension": ".py",
   "mimetype": "text/x-python",
   "name": "python",
   "nbconvert_exporter": "python",
   "pygments_lexer": "ipython3",
   "version": "3.11.7"
  }
 },
 "nbformat": 4,
 "nbformat_minor": 5
}
