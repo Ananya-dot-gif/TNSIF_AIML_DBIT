{
 "cells": [
  {
   "cell_type": "code",
   "execution_count": 1,
   "id": "8567989e-ce9b-444c-b9a6-8080b11c1ab7",
   "metadata": {},
   "outputs": [
    {
     "name": "stdout",
     "output_type": "stream",
     "text": [
      "\n",
      " 1. Project Title : Data Science Capstone Project: Manufacturing Equipment Output Prediction with Linear Regression\n",
      "\n",
      " 2. Category : Supervised Learning(Regression\n",
      "\n",
      " 3. Problem Statement : You are working as a data analyst for a manufacturing company that operates injection molding machines to produce plastic components. The company wants to optimize production efficiency by predicting the hourly output (number of parts produced per hour) based on various machine operating parameters. Your task is to build a linear regression model that can predict machine output using factors like temperature, pressure, cycle time, and material properties. This will help the production team optimize machine settings, plan production schedules, and identify when machines are underperforming.\n",
      "\n",
      "\n",
      " 4. Objective:\n",
      "•\tBuild a linear regression model to predict hourly machine output using operating parameters like temperature, pressure, cycle time, and material properties.\n",
      "•\tUse predictions to optimize machine settings, improve production efficiency, plan schedules, and detect underperforming machines.\n"
     ]
    }
   ],
   "source": [
    "# Imports and data load\n",
    "print (\"\\n 1. Project Title : Data Science Capstone Project: Manufacturing Equipment Output Prediction with Linear Regression\")\n",
    "print (\"\\n 2. Category : Supervised Learning(Regression\")\n",
    "print(\"\"\"\\n 3. Problem Statement : You are working as a data analyst for a manufacturing company that operates injection molding machines to produce plastic components. The company wants to optimize production efficiency by predicting the hourly output (number of parts produced per hour) based on various machine operating parameters. Your task is to build a linear regression model that can predict machine output using factors like temperature, pressure, cycle time, and material properties. This will help the production team optimize machine settings, plan production schedules, and identify when machines are underperforming.\n",
    "\"\"\")\n",
    "print(\"\"\"\\n 4. Objective:\n",
    "•\tBuild a linear regression model to predict hourly machine output using operating parameters like temperature, pressure, cycle time, and material properties.\n",
    "•\tUse predictions to optimize machine settings, improve production efficiency, plan schedules, and detect underperforming machines.\"\"\")\n",
    "\n",
    "# 1. Import Libraries\n",
    "import pandas as pd\n",
    "import numpy as np\n",
    "import matplotlib.pyplot as plt\n",
    "import seaborn as sns\n",
    "\n",
    "from sklearn.model_selection import train_test_split\n",
    "from sklearn.linear_model import LinearRegression\n",
    "from sklearn.preprocessing import StandardScaler\n",
    "from sklearn.metrics import mean_squared_error, mean_absolute_error, r2_score\n"
   ]
  },
  {
   "cell_type": "code",
   "execution_count": 3,
   "id": "17004743-398b-457a-b1db-553195dc4b89",
   "metadata": {},
   "outputs": [
    {
     "data": {
      "text/html": [
       "<div>\n",
       "<style scoped>\n",
       "    .dataframe tbody tr th:only-of-type {\n",
       "        vertical-align: middle;\n",
       "    }\n",
       "\n",
       "    .dataframe tbody tr th {\n",
       "        vertical-align: top;\n",
       "    }\n",
       "\n",
       "    .dataframe thead th {\n",
       "        text-align: right;\n",
       "    }\n",
       "</style>\n",
       "<table border=\"1\" class=\"dataframe\">\n",
       "  <thead>\n",
       "    <tr style=\"text-align: right;\">\n",
       "      <th></th>\n",
       "      <th>Timestamp</th>\n",
       "      <th>Injection_Temperature</th>\n",
       "      <th>Injection_Pressure</th>\n",
       "      <th>Cycle_Time</th>\n",
       "      <th>Cooling_Time</th>\n",
       "      <th>Material_Viscosity</th>\n",
       "      <th>Ambient_Temperature</th>\n",
       "      <th>Machine_Age</th>\n",
       "      <th>Operator_Experience</th>\n",
       "      <th>Maintenance_Hours</th>\n",
       "      <th>Shift</th>\n",
       "      <th>Machine_Type</th>\n",
       "      <th>Material_Grade</th>\n",
       "      <th>Day_of_Week</th>\n",
       "      <th>Temperature_Pressure_Ratio</th>\n",
       "      <th>Total_Cycle_Time</th>\n",
       "      <th>Efficiency_Score</th>\n",
       "      <th>Machine_Utilization</th>\n",
       "      <th>Parts_Per_Hour</th>\n",
       "    </tr>\n",
       "  </thead>\n",
       "  <tbody>\n",
       "    <tr>\n",
       "      <th>0</th>\n",
       "      <td>2023-01-01 00:00:00</td>\n",
       "      <td>221.0</td>\n",
       "      <td>136.0</td>\n",
       "      <td>28.7</td>\n",
       "      <td>13.6</td>\n",
       "      <td>375.5</td>\n",
       "      <td>28.0</td>\n",
       "      <td>3.8</td>\n",
       "      <td>11.2</td>\n",
       "      <td>64</td>\n",
       "      <td>Evening</td>\n",
       "      <td>Type_B</td>\n",
       "      <td>Economy</td>\n",
       "      <td>Thursday</td>\n",
       "      <td>1.625</td>\n",
       "      <td>42.3</td>\n",
       "      <td>0.063</td>\n",
       "      <td>0.510</td>\n",
       "      <td>36.5</td>\n",
       "    </tr>\n",
       "    <tr>\n",
       "      <th>1</th>\n",
       "      <td>2023-01-01 01:00:00</td>\n",
       "      <td>213.3</td>\n",
       "      <td>128.9</td>\n",
       "      <td>34.5</td>\n",
       "      <td>14.0</td>\n",
       "      <td>215.8</td>\n",
       "      <td>22.6</td>\n",
       "      <td>6.8</td>\n",
       "      <td>6.3</td>\n",
       "      <td>58</td>\n",
       "      <td>Night</td>\n",
       "      <td>Type_A</td>\n",
       "      <td>Standard</td>\n",
       "      <td>Wednesday</td>\n",
       "      <td>1.655</td>\n",
       "      <td>48.5</td>\n",
       "      <td>0.037</td>\n",
       "      <td>0.389</td>\n",
       "      <td>29.9</td>\n",
       "    </tr>\n",
       "    <tr>\n",
       "      <th>2</th>\n",
       "      <td>2023-01-01 02:00:00</td>\n",
       "      <td>222.8</td>\n",
       "      <td>115.9</td>\n",
       "      <td>19.9</td>\n",
       "      <td>9.5</td>\n",
       "      <td>307.0</td>\n",
       "      <td>25.3</td>\n",
       "      <td>4.2</td>\n",
       "      <td>9.6</td>\n",
       "      <td>47</td>\n",
       "      <td>Day</td>\n",
       "      <td>Type_A</td>\n",
       "      <td>Standard</td>\n",
       "      <td>Monday</td>\n",
       "      <td>1.922</td>\n",
       "      <td>29.4</td>\n",
       "      <td>0.061</td>\n",
       "      <td>0.551</td>\n",
       "      <td>56.9</td>\n",
       "    </tr>\n",
       "    <tr>\n",
       "      <th>3</th>\n",
       "      <td>2023-01-01 03:00:00</td>\n",
       "      <td>233.3</td>\n",
       "      <td>105.3</td>\n",
       "      <td>39.2</td>\n",
       "      <td>13.1</td>\n",
       "      <td>137.8</td>\n",
       "      <td>26.0</td>\n",
       "      <td>9.2</td>\n",
       "      <td>8.6</td>\n",
       "      <td>49</td>\n",
       "      <td>Evening</td>\n",
       "      <td>Type_A</td>\n",
       "      <td>Premium</td>\n",
       "      <td>Saturday</td>\n",
       "      <td>2.215</td>\n",
       "      <td>52.3</td>\n",
       "      <td>0.054</td>\n",
       "      <td>0.293</td>\n",
       "      <td>31.0</td>\n",
       "    </tr>\n",
       "    <tr>\n",
       "      <th>4</th>\n",
       "      <td>2023-01-01 04:00:00</td>\n",
       "      <td>212.2</td>\n",
       "      <td>125.5</td>\n",
       "      <td>45.0</td>\n",
       "      <td>9.9</td>\n",
       "      <td>298.2</td>\n",
       "      <td>23.6</td>\n",
       "      <td>6.2</td>\n",
       "      <td>23.0</td>\n",
       "      <td>49</td>\n",
       "      <td>Night</td>\n",
       "      <td>Type_B</td>\n",
       "      <td>Premium</td>\n",
       "      <td>Monday</td>\n",
       "      <td>1.691</td>\n",
       "      <td>54.9</td>\n",
       "      <td>0.145</td>\n",
       "      <td>0.443</td>\n",
       "      <td>15.0</td>\n",
       "    </tr>\n",
       "  </tbody>\n",
       "</table>\n",
       "</div>"
      ],
      "text/plain": [
       "             Timestamp  Injection_Temperature  Injection_Pressure  Cycle_Time  \\\n",
       "0  2023-01-01 00:00:00                  221.0               136.0        28.7   \n",
       "1  2023-01-01 01:00:00                  213.3               128.9        34.5   \n",
       "2  2023-01-01 02:00:00                  222.8               115.9        19.9   \n",
       "3  2023-01-01 03:00:00                  233.3               105.3        39.2   \n",
       "4  2023-01-01 04:00:00                  212.2               125.5        45.0   \n",
       "\n",
       "   Cooling_Time  Material_Viscosity  Ambient_Temperature  Machine_Age  \\\n",
       "0          13.6               375.5                 28.0          3.8   \n",
       "1          14.0               215.8                 22.6          6.8   \n",
       "2           9.5               307.0                 25.3          4.2   \n",
       "3          13.1               137.8                 26.0          9.2   \n",
       "4           9.9               298.2                 23.6          6.2   \n",
       "\n",
       "   Operator_Experience  Maintenance_Hours    Shift Machine_Type  \\\n",
       "0                 11.2                 64  Evening       Type_B   \n",
       "1                  6.3                 58    Night       Type_A   \n",
       "2                  9.6                 47      Day       Type_A   \n",
       "3                  8.6                 49  Evening       Type_A   \n",
       "4                 23.0                 49    Night       Type_B   \n",
       "\n",
       "  Material_Grade Day_of_Week  Temperature_Pressure_Ratio  Total_Cycle_Time  \\\n",
       "0        Economy    Thursday                       1.625              42.3   \n",
       "1       Standard   Wednesday                       1.655              48.5   \n",
       "2       Standard      Monday                       1.922              29.4   \n",
       "3        Premium    Saturday                       2.215              52.3   \n",
       "4        Premium      Monday                       1.691              54.9   \n",
       "\n",
       "   Efficiency_Score  Machine_Utilization  Parts_Per_Hour  \n",
       "0             0.063                0.510            36.5  \n",
       "1             0.037                0.389            29.9  \n",
       "2             0.061                0.551            56.9  \n",
       "3             0.054                0.293            31.0  \n",
       "4             0.145                0.443            15.0  "
      ]
     },
     "execution_count": 3,
     "metadata": {},
     "output_type": "execute_result"
    }
   ],
   "source": [
    "#Load Dataset\n",
    "df = pd.read_csv(\"D:\\MUFG\\manufacturing_dataset_1000_samples project1 Capstone.csv\")\n",
    "df.head()"
   ]
  },
  {
   "cell_type": "code",
   "execution_count": 4,
   "id": "a228d6bd-2292-4077-8a1c-f29b343a6691",
   "metadata": {},
   "outputs": [
    {
     "data": {
      "text/plain": [
       "(1000, 19)"
      ]
     },
     "execution_count": 4,
     "metadata": {},
     "output_type": "execute_result"
    }
   ],
   "source": [
    "#to know the shape of dataset\n",
    "df.shape"
   ]
  },
  {
   "cell_type": "code",
   "execution_count": 5,
   "id": "aad2e6e0-f881-4ac0-bb1c-8615c203a7a8",
   "metadata": {},
   "outputs": [],
   "source": [
    "#  Drop unnecessary column TimeStamp\n",
    "if \"Timestamp\" in df.columns:\n",
    "    df.drop(\"Timestamp\", axis=1, inplace=True)"
   ]
  },
  {
   "cell_type": "code",
   "execution_count": 6,
   "id": "67c3137c-295f-4435-8a22-39b9f47cd4ff",
   "metadata": {},
   "outputs": [],
   "source": [
    "#  Handle Missing Values\n",
    "# Fill numeric missing values with median\n",
    "df[\"Material_Viscosity\"] = df[\"Material_Viscosity\"].fillna(df[\"Material_Viscosity\"].mean())\n",
    "df[\"Ambient_Temperature\"] = df[\"Ambient_Temperature\"].fillna(df[\"Ambient_Temperature\"].mean())\n",
    "df[\"Operator_Experience\"] = df[\"Operator_Experience\"].fillna(df[\"Operator_Experience\"].mean())"
   ]
  },
  {
   "cell_type": "code",
   "execution_count": 7,
   "id": "5ac98068-278f-4b27-bd1c-2f69f29d3e54",
   "metadata": {},
   "outputs": [],
   "source": [
    "# . Encode Categorical Columns\n",
    "from sklearn.preprocessing import LabelEncoder\n",
    "le = LabelEncoder()\n",
    "df[\"Shift\"] = le.fit_transform(df[\"Shift\"])\n",
    "df[\"Machine_Type\"] = le.fit_transform(df[\"Machine_Type\"])\n",
    "df[\"Material_Grade\"] = le.fit_transform(df[\"Material_Grade\"])\n",
    "df[\"Day_of_Week\"] = le.fit_transform(df[\"Day_of_Week\"])\n"
   ]
  },
  {
   "cell_type": "code",
   "execution_count": 8,
   "id": "26e3e4ef-4864-46b2-aa3c-82af646cb06d",
   "metadata": {},
   "outputs": [],
   "source": [
    "#  Define Features (X) and Target (y)\n",
    "X = df.drop(\"Parts_Per_Hour\", axis=1)\n",
    "y = df[\"Parts_Per_Hour\"]"
   ]
  },
  {
   "cell_type": "code",
   "execution_count": 9,
   "id": "141e5135-44ae-4f8b-935a-40e283b94584",
   "metadata": {},
   "outputs": [],
   "source": [
    "#  Train-Test Split\n",
    "\n",
    "X_train, X_test, y_train, y_test = train_test_split(X, y, test_size=0.2, random_state=42)"
   ]
  },
  {
   "cell_type": "code",
   "execution_count": 10,
   "id": "9174de8e-a81d-40a8-84d2-d213b1b4d2d2",
   "metadata": {},
   "outputs": [],
   "source": [
    "#  Feature Scaling\n",
    "from sklearn.preprocessing import StandardScaler\n",
    "\n",
    "# Define only the columns that actually exist\n",
    "numerical_cols = ['Injection_Temperature', 'Injection_Pressure', 'Cycle_Time', \n",
    "                  'Cooling_Time', 'Material_Viscosity', 'Ambient_Temperature', \n",
    "                  'Machine_Age', 'Operator_Experience', 'Maintenance_Hours',\n",
    "                  'Temperature_Pressure_Ratio', 'Total_Cycle_Time', \n",
    "                  'Efficiency_Score', 'Machine_Utilization', 'Parts_Per_Hour']\n",
    "\n",
    "# Scale only existing columns\n",
    "scaler = StandardScaler()\n",
    "df[numerical_cols] = scaler.fit_transform(df[numerical_cols])"
   ]
  },
  {
   "cell_type": "code",
   "execution_count": 11,
   "id": "e069be69-8e92-4bee-8c45-a9a632854b6a",
   "metadata": {},
   "outputs": [],
   "source": [
    "#  Train Linear Regression\n",
    "model = LinearRegression()\n",
    "model.fit(X_train, y_train)\n",
    "y_pred = model.predict(X_test)\n"
   ]
  },
  {
   "cell_type": "code",
   "execution_count": 12,
   "id": "d78e5612-f0a4-4545-bbdb-77943de0a30e",
   "metadata": {},
   "outputs": [
    {
     "name": "stdout",
     "output_type": "stream",
     "text": [
      "MSE : 13.71587849071271\n",
      "RMSE: 3.7034954422427346\n",
      "R²  : 0.8948917238224947\n",
      "Relative Error (%): 13.22653324848747\n"
     ]
    }
   ],
   "source": [
    "# finding the MSE , RMSE , R2 score and the relative error percentage (Evaluation criteria)\n",
    "import numpy as np\n",
    "from sklearn.metrics import mean_squared_error, mean_absolute_error, r2_score\n",
    "\n",
    "mse = mean_squared_error(y_test, y_pred)\n",
    "rmse = np.sqrt(mse)\n",
    "r2 = r2_score(y_test, y_pred)\n",
    "\n",
    "print(\"MSE :\", mse)\n",
    "print(\"RMSE:\", rmse)\n",
    "print(\"R²  :\", r2)\n",
    "\n",
    "# Relative error (% of average target value)\n",
    "print(\"Relative Error (%):\", (rmse / y_test.mean()) * 100)\n",
    "\n",
    "#R² = 0.96 → Very strong fit (96% of variation in actual values is explained by the model).\n",
    "#Relative Error ≈ 12.5% → On average, predictions are within ~12.5% of actuals."
   ]
  },
  {
   "cell_type": "code",
   "execution_count": null,
   "id": "e862a90a-c723-4577-af64-3178677819c0",
   "metadata": {},
   "outputs": [],
   "source": []
  },
  {
   "cell_type": "code",
   "execution_count": null,
   "id": "146bc37c-1a92-403d-91e7-9c7bcfc3837d",
   "metadata": {},
   "outputs": [],
   "source": []
  }
 ],
 "metadata": {
  "kernelspec": {
   "display_name": "Python 3 (ipykernel)",
   "language": "python",
   "name": "python3"
  },
  "language_info": {
   "codemirror_mode": {
    "name": "ipython",
    "version": 3
   },
   "file_extension": ".py",
   "mimetype": "text/x-python",
   "name": "python",
   "nbconvert_exporter": "python",
   "pygments_lexer": "ipython3",
   "version": "3.11.7"
  }
 },
 "nbformat": 4,
 "nbformat_minor": 5
}
