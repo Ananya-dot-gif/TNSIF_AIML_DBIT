{
 "cells": [
  {
   "cell_type": "code",
   "execution_count": 3,
   "id": "aca85e8d-0001-4de7-9d9a-630c41001374",
   "metadata": {},
   "outputs": [],
   "source": [
    "#Step 1: Data Understanding\n",
    "\t#1. Load the dataset into Python using pandas.\n",
    "import pandas as pd\n",
    "import numpy as np\n",
    "import matplotlib.pyplot as plt\n",
    "df=df = pd.read_csv(\"D:\\MUFG\\student_performance decision tree.csv\")\n",
    "\n",
    "\t\n",
    "\t\n"
   ]
  },
  {
   "cell_type": "code",
   "execution_count": 4,
   "id": "f455ae18-650e-4cff-b736-182ae8b4f697",
   "metadata": {},
   "outputs": [
    {
     "data": {
      "text/html": [
       "<div>\n",
       "<style scoped>\n",
       "    .dataframe tbody tr th:only-of-type {\n",
       "        vertical-align: middle;\n",
       "    }\n",
       "\n",
       "    .dataframe tbody tr th {\n",
       "        vertical-align: top;\n",
       "    }\n",
       "\n",
       "    .dataframe thead th {\n",
       "        text-align: right;\n",
       "    }\n",
       "</style>\n",
       "<table border=\"1\" class=\"dataframe\">\n",
       "  <thead>\n",
       "    <tr style=\"text-align: right;\">\n",
       "      <th></th>\n",
       "      <th>Hours_Studied</th>\n",
       "      <th>Previous_Scores</th>\n",
       "      <th>Extracurricular</th>\n",
       "      <th>Sleep_Hours</th>\n",
       "      <th>Internet_Access</th>\n",
       "      <th>Attendance</th>\n",
       "      <th>Performance</th>\n",
       "    </tr>\n",
       "  </thead>\n",
       "  <tbody>\n",
       "    <tr>\n",
       "      <th>0</th>\n",
       "      <td>2</td>\n",
       "      <td>40</td>\n",
       "      <td>No</td>\n",
       "      <td>6</td>\n",
       "      <td>Yes</td>\n",
       "      <td>70</td>\n",
       "      <td>Low</td>\n",
       "    </tr>\n",
       "    <tr>\n",
       "      <th>1</th>\n",
       "      <td>5</td>\n",
       "      <td>60</td>\n",
       "      <td>Yes</td>\n",
       "      <td>7</td>\n",
       "      <td>Yes</td>\n",
       "      <td>80</td>\n",
       "      <td>Medium</td>\n",
       "    </tr>\n",
       "    <tr>\n",
       "      <th>2</th>\n",
       "      <td>8</td>\n",
       "      <td>85</td>\n",
       "      <td>No</td>\n",
       "      <td>8</td>\n",
       "      <td>Yes</td>\n",
       "      <td>90</td>\n",
       "      <td>High</td>\n",
       "    </tr>\n",
       "    <tr>\n",
       "      <th>3</th>\n",
       "      <td>1</td>\n",
       "      <td>35</td>\n",
       "      <td>No</td>\n",
       "      <td>5</td>\n",
       "      <td>No</td>\n",
       "      <td>60</td>\n",
       "      <td>Low</td>\n",
       "    </tr>\n",
       "    <tr>\n",
       "      <th>4</th>\n",
       "      <td>6</td>\n",
       "      <td>75</td>\n",
       "      <td>Yes</td>\n",
       "      <td>7</td>\n",
       "      <td>Yes</td>\n",
       "      <td>85</td>\n",
       "      <td>High</td>\n",
       "    </tr>\n",
       "  </tbody>\n",
       "</table>\n",
       "</div>"
      ],
      "text/plain": [
       "   Hours_Studied  Previous_Scores Extracurricular  Sleep_Hours  \\\n",
       "0              2               40              No            6   \n",
       "1              5               60             Yes            7   \n",
       "2              8               85              No            8   \n",
       "3              1               35              No            5   \n",
       "4              6               75             Yes            7   \n",
       "\n",
       "  Internet_Access  Attendance Performance  \n",
       "0             Yes          70         Low  \n",
       "1             Yes          80      Medium  \n",
       "2             Yes          90        High  \n",
       "3              No          60         Low  \n",
       "4             Yes          85        High  "
      ]
     },
     "execution_count": 4,
     "metadata": {},
     "output_type": "execute_result"
    }
   ],
   "source": [
    "#2. Display the first 5 rows and describe each feature.\n",
    "df.head()"
   ]
  },
  {
   "cell_type": "code",
   "execution_count": 5,
   "id": "64363053-68b9-41a6-a1d1-084eb4ff6677",
   "metadata": {},
   "outputs": [
    {
     "data": {
      "text/plain": [
       "(20, 7)"
      ]
     },
     "execution_count": 5,
     "metadata": {},
     "output_type": "execute_result"
    }
   ],
   "source": [
    "#3. Check for missing values and handle them if any.\n",
    "df.shape"
   ]
  },
  {
   "cell_type": "code",
   "execution_count": 6,
   "id": "64009148-01b2-4480-ad31-3de110098fa0",
   "metadata": {},
   "outputs": [
    {
     "data": {
      "text/plain": [
       "Hours_Studied      0\n",
       "Previous_Scores    0\n",
       "Extracurricular    0\n",
       "Sleep_Hours        0\n",
       "Internet_Access    0\n",
       "Attendance         0\n",
       "Performance        0\n",
       "dtype: int64"
      ]
     },
     "execution_count": 6,
     "metadata": {},
     "output_type": "execute_result"
    }
   ],
   "source": [
    "df.isnull().sum()"
   ]
  },
  {
   "cell_type": "code",
   "execution_count": 7,
   "id": "7b08f8e9-0643-42ef-8b69-0d891135bb1e",
   "metadata": {},
   "outputs": [
    {
     "data": {
      "text/plain": [
       "0"
      ]
     },
     "execution_count": 7,
     "metadata": {},
     "output_type": "execute_result"
    }
   ],
   "source": [
    "df.duplicated().sum()"
   ]
  },
  {
   "cell_type": "code",
   "execution_count": 8,
   "id": "8d6a2ab8-daf0-42de-86b8-5457df0de32d",
   "metadata": {},
   "outputs": [
    {
     "name": "stdout",
     "output_type": "stream",
     "text": [
      "<class 'pandas.core.frame.DataFrame'>\n",
      "RangeIndex: 20 entries, 0 to 19\n",
      "Data columns (total 7 columns):\n",
      " #   Column           Non-Null Count  Dtype \n",
      "---  ------           --------------  ----- \n",
      " 0   Hours_Studied    20 non-null     int64 \n",
      " 1   Previous_Scores  20 non-null     int64 \n",
      " 2   Extracurricular  20 non-null     object\n",
      " 3   Sleep_Hours      20 non-null     int64 \n",
      " 4   Internet_Access  20 non-null     object\n",
      " 5   Attendance       20 non-null     int64 \n",
      " 6   Performance      20 non-null     object\n",
      "dtypes: int64(4), object(3)\n",
      "memory usage: 1.2+ KB\n"
     ]
    }
   ],
   "source": [
    "df.info()"
   ]
  },
  {
   "cell_type": "code",
   "execution_count": 9,
   "id": "f3f0a5b2-52d0-4eb2-892d-5c1250d4b1c6",
   "metadata": {},
   "outputs": [
    {
     "data": {
      "text/html": [
       "<div>\n",
       "<style scoped>\n",
       "    .dataframe tbody tr th:only-of-type {\n",
       "        vertical-align: middle;\n",
       "    }\n",
       "\n",
       "    .dataframe tbody tr th {\n",
       "        vertical-align: top;\n",
       "    }\n",
       "\n",
       "    .dataframe thead th {\n",
       "        text-align: right;\n",
       "    }\n",
       "</style>\n",
       "<table border=\"1\" class=\"dataframe\">\n",
       "  <thead>\n",
       "    <tr style=\"text-align: right;\">\n",
       "      <th></th>\n",
       "      <th>Hours_Studied</th>\n",
       "      <th>Previous_Scores</th>\n",
       "      <th>Sleep_Hours</th>\n",
       "      <th>Attendance</th>\n",
       "    </tr>\n",
       "  </thead>\n",
       "  <tbody>\n",
       "    <tr>\n",
       "      <th>count</th>\n",
       "      <td>20.000000</td>\n",
       "      <td>20.000000</td>\n",
       "      <td>20.000000</td>\n",
       "      <td>20.000000</td>\n",
       "    </tr>\n",
       "    <tr>\n",
       "      <th>mean</th>\n",
       "      <td>4.600000</td>\n",
       "      <td>60.650000</td>\n",
       "      <td>6.500000</td>\n",
       "      <td>78.950000</td>\n",
       "    </tr>\n",
       "    <tr>\n",
       "      <th>std</th>\n",
       "      <td>2.414866</td>\n",
       "      <td>18.345443</td>\n",
       "      <td>1.051315</td>\n",
       "      <td>11.874231</td>\n",
       "    </tr>\n",
       "    <tr>\n",
       "      <th>min</th>\n",
       "      <td>1.000000</td>\n",
       "      <td>30.000000</td>\n",
       "      <td>5.000000</td>\n",
       "      <td>55.000000</td>\n",
       "    </tr>\n",
       "    <tr>\n",
       "      <th>25%</th>\n",
       "      <td>2.750000</td>\n",
       "      <td>46.500000</td>\n",
       "      <td>6.000000</td>\n",
       "      <td>70.000000</td>\n",
       "    </tr>\n",
       "    <tr>\n",
       "      <th>50%</th>\n",
       "      <td>4.500000</td>\n",
       "      <td>59.000000</td>\n",
       "      <td>6.500000</td>\n",
       "      <td>80.000000</td>\n",
       "    </tr>\n",
       "    <tr>\n",
       "      <th>75%</th>\n",
       "      <td>6.250000</td>\n",
       "      <td>75.750000</td>\n",
       "      <td>7.000000</td>\n",
       "      <td>88.500000</td>\n",
       "    </tr>\n",
       "    <tr>\n",
       "      <th>max</th>\n",
       "      <td>9.000000</td>\n",
       "      <td>92.000000</td>\n",
       "      <td>8.000000</td>\n",
       "      <td>96.000000</td>\n",
       "    </tr>\n",
       "  </tbody>\n",
       "</table>\n",
       "</div>"
      ],
      "text/plain": [
       "       Hours_Studied  Previous_Scores  Sleep_Hours  Attendance\n",
       "count      20.000000        20.000000    20.000000   20.000000\n",
       "mean        4.600000        60.650000     6.500000   78.950000\n",
       "std         2.414866        18.345443     1.051315   11.874231\n",
       "min         1.000000        30.000000     5.000000   55.000000\n",
       "25%         2.750000        46.500000     6.000000   70.000000\n",
       "50%         4.500000        59.000000     6.500000   80.000000\n",
       "75%         6.250000        75.750000     7.000000   88.500000\n",
       "max         9.000000        92.000000     8.000000   96.000000"
      ]
     },
     "execution_count": 9,
     "metadata": {},
     "output_type": "execute_result"
    }
   ],
   "source": [
    "df.describe()"
   ]
  },
  {
   "cell_type": "code",
   "execution_count": 23,
   "id": "98980350-aa83-4be1-a7cb-7df6951e5068",
   "metadata": {},
   "outputs": [],
   "source": [
    "#Step 2: Data Preprocessing\n",
    "#4. Convert categorical variables (Extracurricular, Internet_Access) into numerical form.\n",
    "from sklearn.preprocessing import LabelEncoder\n",
    "le = LabelEncoder()\n",
    "df[\"Extracurricular\"] = le.fit_transform(df[\"Extracurricular\"])\n",
    "df[\"Internet_Access\"] = le.fit_transform(df[\"Internet_Access\"])\n",
    "\n",
    "# Duplicate Hours_Studied feature(Scaling)\n",
    "df[\"Hours_Studied_2\"] = df[\"Hours_Studied\"] * 2\n",
    "df[\"Hours_Studied_3\"] = df[\"Hours_Studied\"] * 3\n"
   ]
  },
  {
   "cell_type": "code",
   "execution_count": 24,
   "id": "26ace91c-9127-42ad-8246-27a501014170",
   "metadata": {},
   "outputs": [],
   "source": [
    "#5. Split the dataset into features (X) and target (y).\n",
    "X = df.drop(\"Performance\", axis=1)\n",
    "y = df[\"Performance\"]"
   ]
  },
  {
   "cell_type": "code",
   "execution_count": 25,
   "id": "78ea392a-3d99-4ebb-9414-76bc29b6ee29",
   "metadata": {},
   "outputs": [],
   "source": [
    "#6. Perform train-test split (70% train, 30% test).\n",
    "from sklearn.model_selection import train_test_split\n",
    "X_train, X_test, y_train, y_test = train_test_split(X, y, test_size=0.3, random_state=42)"
   ]
  },
  {
   "cell_type": "code",
   "execution_count": 26,
   "id": "08c75a54-8f12-4c93-9388-3e16e6e2e90a",
   "metadata": {},
   "outputs": [
    {
     "data": {
      "text/html": [
       "<style>#sk-container-id-2 {color: black;background-color: white;}#sk-container-id-2 pre{padding: 0;}#sk-container-id-2 div.sk-toggleable {background-color: white;}#sk-container-id-2 label.sk-toggleable__label {cursor: pointer;display: block;width: 100%;margin-bottom: 0;padding: 0.3em;box-sizing: border-box;text-align: center;}#sk-container-id-2 label.sk-toggleable__label-arrow:before {content: \"▸\";float: left;margin-right: 0.25em;color: #696969;}#sk-container-id-2 label.sk-toggleable__label-arrow:hover:before {color: black;}#sk-container-id-2 div.sk-estimator:hover label.sk-toggleable__label-arrow:before {color: black;}#sk-container-id-2 div.sk-toggleable__content {max-height: 0;max-width: 0;overflow: hidden;text-align: left;background-color: #f0f8ff;}#sk-container-id-2 div.sk-toggleable__content pre {margin: 0.2em;color: black;border-radius: 0.25em;background-color: #f0f8ff;}#sk-container-id-2 input.sk-toggleable__control:checked~div.sk-toggleable__content {max-height: 200px;max-width: 100%;overflow: auto;}#sk-container-id-2 input.sk-toggleable__control:checked~label.sk-toggleable__label-arrow:before {content: \"▾\";}#sk-container-id-2 div.sk-estimator input.sk-toggleable__control:checked~label.sk-toggleable__label {background-color: #d4ebff;}#sk-container-id-2 div.sk-label input.sk-toggleable__control:checked~label.sk-toggleable__label {background-color: #d4ebff;}#sk-container-id-2 input.sk-hidden--visually {border: 0;clip: rect(1px 1px 1px 1px);clip: rect(1px, 1px, 1px, 1px);height: 1px;margin: -1px;overflow: hidden;padding: 0;position: absolute;width: 1px;}#sk-container-id-2 div.sk-estimator {font-family: monospace;background-color: #f0f8ff;border: 1px dotted black;border-radius: 0.25em;box-sizing: border-box;margin-bottom: 0.5em;}#sk-container-id-2 div.sk-estimator:hover {background-color: #d4ebff;}#sk-container-id-2 div.sk-parallel-item::after {content: \"\";width: 100%;border-bottom: 1px solid gray;flex-grow: 1;}#sk-container-id-2 div.sk-label:hover label.sk-toggleable__label {background-color: #d4ebff;}#sk-container-id-2 div.sk-serial::before {content: \"\";position: absolute;border-left: 1px solid gray;box-sizing: border-box;top: 0;bottom: 0;left: 50%;z-index: 0;}#sk-container-id-2 div.sk-serial {display: flex;flex-direction: column;align-items: center;background-color: white;padding-right: 0.2em;padding-left: 0.2em;position: relative;}#sk-container-id-2 div.sk-item {position: relative;z-index: 1;}#sk-container-id-2 div.sk-parallel {display: flex;align-items: stretch;justify-content: center;background-color: white;position: relative;}#sk-container-id-2 div.sk-item::before, #sk-container-id-2 div.sk-parallel-item::before {content: \"\";position: absolute;border-left: 1px solid gray;box-sizing: border-box;top: 0;bottom: 0;left: 50%;z-index: -1;}#sk-container-id-2 div.sk-parallel-item {display: flex;flex-direction: column;z-index: 1;position: relative;background-color: white;}#sk-container-id-2 div.sk-parallel-item:first-child::after {align-self: flex-end;width: 50%;}#sk-container-id-2 div.sk-parallel-item:last-child::after {align-self: flex-start;width: 50%;}#sk-container-id-2 div.sk-parallel-item:only-child::after {width: 0;}#sk-container-id-2 div.sk-dashed-wrapped {border: 1px dashed gray;margin: 0 0.4em 0.5em 0.4em;box-sizing: border-box;padding-bottom: 0.4em;background-color: white;}#sk-container-id-2 div.sk-label label {font-family: monospace;font-weight: bold;display: inline-block;line-height: 1.2em;}#sk-container-id-2 div.sk-label-container {text-align: center;}#sk-container-id-2 div.sk-container {/* jupyter's `normalize.less` sets `[hidden] { display: none; }` but bootstrap.min.css set `[hidden] { display: none !important; }` so we also need the `!important` here to be able to override the default hidden behavior on the sphinx rendered scikit-learn.org. See: https://github.com/scikit-learn/scikit-learn/issues/21755 */display: inline-block !important;position: relative;}#sk-container-id-2 div.sk-text-repr-fallback {display: none;}</style><div id=\"sk-container-id-2\" class=\"sk-top-container\"><div class=\"sk-text-repr-fallback\"><pre>DecisionTreeClassifier(random_state=42)</pre><b>In a Jupyter environment, please rerun this cell to show the HTML representation or trust the notebook. <br />On GitHub, the HTML representation is unable to render, please try loading this page with nbviewer.org.</b></div><div class=\"sk-container\" hidden><div class=\"sk-item\"><div class=\"sk-estimator sk-toggleable\"><input class=\"sk-toggleable__control sk-hidden--visually\" id=\"sk-estimator-id-2\" type=\"checkbox\" checked><label for=\"sk-estimator-id-2\" class=\"sk-toggleable__label sk-toggleable__label-arrow\">DecisionTreeClassifier</label><div class=\"sk-toggleable__content\"><pre>DecisionTreeClassifier(random_state=42)</pre></div></div></div></div></div>"
      ],
      "text/plain": [
       "DecisionTreeClassifier(random_state=42)"
      ]
     },
     "execution_count": 26,
     "metadata": {},
     "output_type": "execute_result"
    }
   ],
   "source": [
    "#Step 3: Model Building\n",
    "# 7.Train a Decision Tree Classifier on the training set.\n",
    "from sklearn.tree import DecisionTreeClassifier\n",
    "dtc = DecisionTreeClassifier(random_state=42)\n",
    "dtc.fit(X_train, y_train)"
   ]
  },
  {
   "cell_type": "code",
   "execution_count": 27,
   "id": "53259f05-c994-4ad4-8796-8f2defb24610",
   "metadata": {},
   "outputs": [
    {
     "name": "stdout",
     "output_type": "stream",
     "text": [
      "|--- Hours_Studied <= 3.50\n",
      "|   |--- class: Low\n",
      "|--- Hours_Studied >  3.50\n",
      "|   |--- Previous_Scores <= 65.00\n",
      "|   |   |--- class: Medium\n",
      "|   |--- Previous_Scores >  65.00\n",
      "|   |   |--- class: High\n",
      "\n"
     ]
    }
   ],
   "source": [
    "#8.  Print the learned decision rules (tree structure).\n",
    "#When we train a Decision Tree, the algorithm learns patterns from the data and represents them as a series of IF–ELSE rules.\n",
    "from sklearn.tree import export_text\n",
    "print(export_text(dtc, feature_names=list(X.columns)))"
   ]
  },
  {
   "cell_type": "code",
   "execution_count": 28,
   "id": "e9ddcff8-2f8c-4136-a9d4-d191773ba0c7",
   "metadata": {},
   "outputs": [
    {
     "name": "stdout",
     "output_type": "stream",
     "text": [
      "['Low' 'High' 'Medium' 'Medium' 'Medium' 'Medium']\n"
     ]
    }
   ],
   "source": [
    "#Step 4: Model Evaluation\n",
    "# 9. Predict on the test set.\n",
    "y_pred = dtc.predict(X_test)\n",
    "print(y_pred)\n"
   ]
  },
  {
   "cell_type": "code",
   "execution_count": 29,
   "id": "2ff65eac-311b-448d-a610-663e067bc8c0",
   "metadata": {},
   "outputs": [
    {
     "name": "stdout",
     "output_type": "stream",
     "text": [
      "Accuracy: 1.0\n",
      "Confusion Matrix:\n",
      " [[1 0 0]\n",
      " [0 1 0]\n",
      " [0 0 4]]\n",
      "Classification Report:\n",
      "               precision    recall  f1-score   support\n",
      "\n",
      "        High       1.00      1.00      1.00         1\n",
      "         Low       1.00      1.00      1.00         1\n",
      "      Medium       1.00      1.00      1.00         4\n",
      "\n",
      "    accuracy                           1.00         6\n",
      "   macro avg       1.00      1.00      1.00         6\n",
      "weighted avg       1.00      1.00      1.00         6\n",
      "\n"
     ]
    }
   ],
   "source": [
    "# 10. Evaluate performance using accuracy, confusion matrix, and classification report.\n",
    "from sklearn.metrics import accuracy_score, confusion_matrix, classification_report\n",
    "print(\"Accuracy:\", accuracy_score(y_test, y_pred))\n",
    "print(\"Confusion Matrix:\\n\", confusion_matrix(y_test, y_pred))\n",
    "print(\"Classification Report:\\n\", classification_report(y_test, y_pred))\n"
   ]
  },
  {
   "cell_type": "code",
   "execution_count": 30,
   "id": "88fa99ab-5857-41a8-848d-95938e06e2ee",
   "metadata": {},
   "outputs": [
    {
     "name": "stdout",
     "output_type": "stream",
     "text": [
      "Tuned Tree Accuracy: 1.0\n"
     ]
    }
   ],
   "source": [
    "#Step 5: Model Tuning\n",
    "# 11. Experiment with max_depth and criterion (gini vs entropy). Compare results.\n",
    "\n",
    "#We limit depth to 3 (max_depth=3)\n",
    "#→ tree can only make 3 splits → prevents overfitting.\n",
    "#We change criterion from \"gini\" to \"entropy\"\n",
    "#→ tree chooses splits based on information gain.\n",
    "dtc_tuned = DecisionTreeClassifier(max_depth=3, criterion=\"entropy\", random_state=42)\n",
    "dtc_tuned.fit(X_train, y_train)\n",
    "\n",
    "# Predictions\n",
    "y_pred_tuned = dtc_tuned.predict(X_test)\n",
    "\n",
    "#We evaluate accuracy again\n",
    "#→ check if tuning improved performance.\n",
    "print(\"Tuned Tree Accuracy:\", accuracy_score(y_test, y_pred_tuned))"
   ]
  },
  {
   "cell_type": "code",
   "execution_count": 31,
   "id": "4eba1ae8-0816-4d01-8bf8-3ad595dbb6b3",
   "metadata": {},
   "outputs": [
    {
     "name": "stdout",
     "output_type": "stream",
     "text": [
      "Hours_Studied: 0.680\n",
      "Previous_Scores: 0.320\n",
      "Extracurricular: 0.000\n",
      "Sleep_Hours: 0.000\n",
      "Internet_Access: 0.000\n",
      "Attendance: 0.000\n",
      "Hours_Studied_2: 0.000\n",
      "Hours_Studied_3: 0.000\n"
     ]
    }
   ],
   "source": [
    "# Get and display feature importance\n",
    "importances = dtc_tuned.feature_importances_\n",
    "\n",
    "for feature, score in sorted(zip(X.columns, importances), key=lambda x: x[1], reverse=True):\n",
    "    print(f\"{feature}: {score:.3f}\")\n"
   ]
  },
  {
   "cell_type": "code",
   "execution_count": 32,
   "id": "a45add67-7355-42e1-adb7-e5fb9dbecabb",
   "metadata": {},
   "outputs": [
    {
     "data": {
      "image/png": "[encoded data removed]",
      "text/plain": [
       "<Figure size 500x600 with 1 Axes>"
      ]
     },
     "metadata": {},
     "output_type": "display_data"
    }
   ],
   "source": [
    "# 12. Plot the decision tree and interpret which features are most important.\n",
    "from sklearn.tree import plot_tree\n",
    "plt.figure(figsize=(5,6))\n",
    "plot_tree(dtc_tuned, feature_names=X.columns, class_names=[\"Low\",\"Medium\",\"High\"], filled=True)\n",
    "plt.show()"
   ]
  },
  {
   "cell_type": "code",
   "execution_count": 35,
   "id": "4d489df9-9155-44e2-b4df-6bb1ac4cf589",
   "metadata": {},
   "outputs": [
    {
     "name": "stdout",
     "output_type": "stream",
     "text": [
      "Most important features: Index(['Hours_Studied', 'Previous_Scores', 'Hours_Studied_3',\n",
      "       'Hours_Studied_2', 'Attendance', 'Internet_Access', 'Sleep_Hours',\n",
      "       'Extracurricular'],\n",
      "      dtype='object')\n",
      "As a teacher: I would advise students to focus on study hours, since it is the strongest factor for performance. Along with study, sleep and internet access also play a role.\n"
     ]
    }
   ],
   "source": [
    "#Step 6: Insights & Conclusion\n",
    "#13. Which features influence student performance the most?\n",
    "print(\"Most important features:\", X.columns[np.argsort(importances)[::-1]])\n",
    "\n",
    "#14. If you were a teacher, how would you use these insights to help students improve?\n",
    "print(\"As a teacher: I would advise students to focus on study hours, since it is the strongest factor for performance. Along with study, sleep and internet access also play a role.\")\n"
   ]
  },
  {
   "cell_type": "code",
   "execution_count": null,
   "id": "7ac6d71a-b1c2-4ba2-8c2d-e08c7a0e171b",
   "metadata": {},
   "outputs": [],
   "source": []
  }
 ],
 "metadata": {
  "kernelspec": {
   "display_name": "Python 3 (ipykernel)",
   "language": "python",
   "name": "python3"
  },
  "language_info": {
   "codemirror_mode": {
    "name": "ipython",
    "version": 3
   },
   "file_extension": ".py",
   "mimetype": "text/x-python",
   "name": "python",
   "nbconvert_exporter": "python",
   "pygments_lexer": "ipython3",
   "version": "3.11.7"
  }
 },
 "nbformat": 4,
 "nbformat_minor": 5
}
