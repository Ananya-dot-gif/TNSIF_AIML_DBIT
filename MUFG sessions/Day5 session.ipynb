{
 "cells": [
  {
   "cell_type": "code",
   "execution_count": 2,
   "id": "2cc313fd-9ef0-4073-80ac-1ffa1885e510",
   "metadata": {},
   "outputs": [
    {
     "name": "stdout",
     "output_type": "stream",
     "text": [
      "('hello', 1, 1997)\n"
     ]
    }
   ],
   "source": [
    "#tuples are ordered and immutable(non alterable)\n",
    "tup1=('hello',1,1997)\n",
    "print(tup1)"
   ]
  },
  {
   "cell_type": "code",
   "execution_count": 3,
   "id": "6574de11-1770-4e31-b575-1d47f6fc6599",
   "metadata": {},
   "outputs": [
    {
     "name": "stdout",
     "output_type": "stream",
     "text": [
      "(3,)\n"
     ]
    }
   ],
   "source": [
    "tup=(3,)\n",
    "print(tup)"
   ]
  },
  {
   "cell_type": "code",
   "execution_count": 5,
   "id": "d8220db1-731c-4050-bd0e-e655c7a3d1aa",
   "metadata": {},
   "outputs": [
    {
     "name": "stdout",
     "output_type": "stream",
     "text": [
      "<class 'int'>\n"
     ]
    }
   ],
   "source": [
    "tup = (3)\n",
    "print(type(tup))"
   ]
  },
  {
   "cell_type": "code",
   "execution_count": 6,
   "id": "39e324a9-7c10-4a19-b572-d408b5ce4ff2",
   "metadata": {},
   "outputs": [
    {
     "name": "stdout",
     "output_type": "stream",
     "text": [
      "<class 'tuple'>\n"
     ]
    }
   ],
   "source": [
    "tup = (3,)\n",
    "print(type(tup))"
   ]
  },
  {
   "cell_type": "code",
   "execution_count": 7,
   "id": "08b17e42-7fba-4400-b02b-a0f88158bc9e",
   "metadata": {},
   "outputs": [
    {
     "name": "stdout",
     "output_type": "stream",
     "text": [
      "()\n"
     ]
    }
   ],
   "source": [
    "tup =()\n",
    "print(tup)"
   ]
  },
  {
   "cell_type": "code",
   "execution_count": 8,
   "id": "632ac423-9c96-4c51-8883-e8cb99614261",
   "metadata": {},
   "outputs": [
    {
     "ename": "SyntaxError",
     "evalue": "invalid syntax (2360152904.py, line 1)",
     "output_type": "error",
     "traceback": [
      "\u001b[1;36m  Cell \u001b[1;32mIn[8], line 1\u001b[1;36m\u001b[0m\n\u001b[1;33m    tup =(,)\u001b[0m\n\u001b[1;37m          ^\u001b[0m\n\u001b[1;31mSyntaxError\u001b[0m\u001b[1;31m:\u001b[0m invalid syntax\n"
     ]
    }
   ],
   "source": [
    "tup =(,)\n",
    "print(tup)"
   ]
  },
  {
   "cell_type": "code",
   "execution_count": 9,
   "id": "c9579ff9-e1a5-4046-8bd6-483606fd5dc8",
   "metadata": {},
   "outputs": [
    {
     "name": "stdout",
     "output_type": "stream",
     "text": [
      "(1, 2, 3)\n"
     ]
    }
   ],
   "source": [
    "#tuples take list as argument and makes sequence into a tuple(by usingg tuple function)\n",
    "tup=tuple([1,2,3])\n",
    "print(tup)"
   ]
  },
  {
   "cell_type": "code",
   "execution_count": 10,
   "id": "e80a2e09-8613-496c-8f38-e1ea324f7eb4",
   "metadata": {},
   "outputs": [
    {
     "name": "stdout",
     "output_type": "stream",
     "text": [
      "(1, 2, 3, 4, 5, 7)\n"
     ]
    }
   ],
   "source": [
    "#add element in tuple\n",
    "t=(1,2,3,4,5)\n",
    "t=t+(7,)\n",
    "print(t)"
   ]
  },
  {
   "cell_type": "code",
   "execution_count": 17,
   "id": "778cffb8-2262-41b0-a4b3-1594e620f38f",
   "metadata": {},
   "outputs": [
    {
     "name": "stdin",
     "output_type": "stream",
     "text": [
      "Enter number of employees:  2\n",
      "Enter salary of employee 1: 436478\n",
      "Enter salary of employee 2: 645342\n"
     ]
    },
    {
     "name": "stdout",
     "output_type": "stream",
     "text": [
      "Minimum salary: 436478\n",
      "Maximum salary: 645342\n"
     ]
    }
   ],
   "source": [
    "#python program to input ‘n’ employee salaries and find the minimum and maximum salary amongst ‘n’ employees.\n",
    "n = int(input(\"Enter number of employees: \"))\n",
    "salaries = []\n",
    "for i in range(n):\n",
    "    salary = 'Enter salary of employee ' + str(i+1) + ':'\n",
    "    sal=int(input(salary))\n",
    "    salaries.append(sal)\n",
    "print(\"Minimum salary:\", min(salaries))\n",
    "print(\"Maximum salary:\", max(salaries))\n"
   ]
  },
  {
   "cell_type": "code",
   "execution_count": 18,
   "id": "17ee5ac2-ac35-43af-bf13-8937311013a4",
   "metadata": {},
   "outputs": [
    {
     "data": {
      "text/plain": [
       "6"
      ]
     },
     "execution_count": 18,
     "metadata": {},
     "output_type": "execute_result"
    }
   ],
   "source": [
    "len(t)"
   ]
  },
  {
   "cell_type": "code",
   "execution_count": 19,
   "id": "f6c29514-a1d5-4839-a45b-2a0bf3d67c17",
   "metadata": {},
   "outputs": [
    {
     "name": "stdout",
     "output_type": "stream",
     "text": [
      "(1, 2, 3)\n"
     ]
    }
   ],
   "source": [
    "#list to tuple\n",
    "seq=[1,2,3]\n",
    "print(tuple(seq))"
   ]
  },
  {
   "cell_type": "code",
   "execution_count": 20,
   "id": "7873ca08-f0a3-432c-b68d-9ca3f7d97385",
   "metadata": {},
   "outputs": [
    {
     "data": {
      "text/plain": [
       "7"
      ]
     },
     "execution_count": 20,
     "metadata": {},
     "output_type": "execute_result"
    }
   ],
   "source": [
    "min(t)\n",
    "max(t)"
   ]
  },
  {
   "cell_type": "code",
   "execution_count": null,
   "id": "13e62001-3fc2-42ab-bc36-425de6705573",
   "metadata": {},
   "outputs": [],
   "source": [
    "#Function is block of organized,reusable code that is used to perform single,relational operations\n",
    "#Modules is a ffile containing python definitions and statements which we import while executing specific program\n",
    "#User defined functions\n",
    "#inbuilt functions"
   ]
  },
  {
   "cell_type": "code",
   "execution_count": 21,
   "id": "4a1deec3-1c7a-47da-978f-6e65e6f1eaf4",
   "metadata": {},
   "outputs": [
    {
     "name": "stdout",
     "output_type": "stream",
     "text": [
      "('PYTHON',)\n"
     ]
    }
   ],
   "source": [
    "t=tuple()\n",
    "t=t+('PYTHON',)\n",
    "print(t)"
   ]
  },
  {
   "cell_type": "code",
   "execution_count": 22,
   "id": "2aa1fc06-8b69-4b7d-9ffc-429646a6d421",
   "metadata": {},
   "outputs": [
    {
     "name": "stdout",
     "output_type": "stream",
     "text": [
      "1\n"
     ]
    }
   ],
   "source": [
    "print(len(t))"
   ]
  },
  {
   "cell_type": "code",
   "execution_count": 23,
   "id": "809c8d94-37af-456e-b227-65ce5c907c68",
   "metadata": {},
   "outputs": [
    {
     "name": "stdout",
     "output_type": "stream",
     "text": [
      "4\n"
     ]
    }
   ],
   "source": [
    "t1=(10,20,30)\n",
    "t2=t1+t\n",
    "print(len(t2))"
   ]
  },
  {
   "cell_type": "code",
   "execution_count": 24,
   "id": "fb8736da-80d9-4ce1-b0c8-9a6b9a574f9b",
   "metadata": {},
   "outputs": [
    {
     "name": "stdout",
     "output_type": "stream",
     "text": [
      "(10, 20, 30, 10, 20, 30)\n"
     ]
    }
   ],
   "source": [
    "t3=t1*2\n",
    "print(t3)"
   ]
  },
  {
   "cell_type": "code",
   "execution_count": 25,
   "id": "19fbfa4c-6bf1-4d3a-b709-df8daaf158b3",
   "metadata": {},
   "outputs": [
    {
     "name": "stdin",
     "output_type": "stream",
     "text": [
      "Enter number of employees:  2\n",
      "Enter name of employee 1:  Harry\n",
      "Enter employee number of Harry:  12345\n",
      "Enter name of employee 2:  Sam\n",
      "Enter employee number of Sam:  23456\n"
     ]
    },
    {
     "name": "stdout",
     "output_type": "stream",
     "text": [
      "\n",
      "Employee Details:\n",
      "{'Harry': '12345', 'Sam': '23456'}\n"
     ]
    }
   ],
   "source": [
    "#Write a program to input ‘n’ employee numbers and names and store them in a dictionary. Display dictionaries employee’s names(key) and numbers(values) together.\n",
    "n = int(input(\"Enter number of employees: \"))\n",
    "employees = {}\n",
    "for i in range(n):\n",
    "    name = input(f\"Enter name of employee {i+1}: \")\n",
    "    number = input(f\"Enter employee number of {name}: \")\n",
    "    employees[name] = number\n",
    "print(\"\\nEmployee Details:\")\n",
    "print(employees)\n"
   ]
  },
  {
   "cell_type": "code",
   "execution_count": 28,
   "id": "a876e421-4ec9-4260-9d5d-347530287c7f",
   "metadata": {},
   "outputs": [
    {
     "name": "stdout",
     "output_type": "stream",
     "text": [
      "\n",
      "Employee Names: dict_keys(['Harry', 'Sam'])\n",
      "Employee Numbers: dict_values(['12345', '23456'])\n"
     ]
    }
   ],
   "source": [
    "print(\"\\nEmployee Names:\",(employees.keys()))\n",
    "print(\"Employee Numbers:\",(employees.values()))"
   ]
  },
  {
   "cell_type": "code",
   "execution_count": null,
   "id": "7ed2c8ff-9feb-4154-9694-0d22464aaf46",
   "metadata": {},
   "outputs": [],
   "source": []
  }
 ],
 "metadata": {
  "kernelspec": {
   "display_name": "Python 3 (ipykernel)",
   "language": "python",
   "name": "python3"
  },
  "language_info": {
   "codemirror_mode": {
    "name": "ipython",
    "version": 3
   },
   "file_extension": ".py",
   "mimetype": "text/x-python",
   "name": "python",
   "nbconvert_exporter": "python",
   "pygments_lexer": "ipython3",
   "version": "3.11.7"
  }
 },
 "nbformat": 4,
 "nbformat_minor": 5
}
