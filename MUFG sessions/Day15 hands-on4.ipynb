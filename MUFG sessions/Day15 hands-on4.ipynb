{
 "cells": [
  {
   "cell_type": "code",
   "execution_count": 1,
   "id": "5084d3aa-db4e-4d43-8957-956e274ca0b4",
   "metadata": {},
   "outputs": [],
   "source": [
    "#Step 1: Data Understanding\n",
    "#1. Load the dataset into Python using pandas.\n",
    "import pandas as pd\n",
    "import numpy as np\n",
    "import matplotlib.pyplot as plt\n",
    "df=df = pd.read_csv(\"D:\\MUFG\\employee_attrition Random forest.csv\")"
   ]
  },
  {
   "cell_type": "code",
   "execution_count": 2,
   "id": "49926cb6-c991-44ce-97d6-13a2780d076c",
   "metadata": {},
   "outputs": [
    {
     "data": {
      "text/html": [
       "<div>\n",
       "<style scoped>\n",
       "    .dataframe tbody tr th:only-of-type {\n",
       "        vertical-align: middle;\n",
       "    }\n",
       "\n",
       "    .dataframe tbody tr th {\n",
       "        vertical-align: top;\n",
       "    }\n",
       "\n",
       "    .dataframe thead th {\n",
       "        text-align: right;\n",
       "    }\n",
       "</style>\n",
       "<table border=\"1\" class=\"dataframe\">\n",
       "  <thead>\n",
       "    <tr style=\"text-align: right;\">\n",
       "      <th></th>\n",
       "      <th>Age</th>\n",
       "      <th>Department</th>\n",
       "      <th>Years_At_Company</th>\n",
       "      <th>Salary</th>\n",
       "      <th>Overtime</th>\n",
       "      <th>JobSatisfaction</th>\n",
       "      <th>Attrition</th>\n",
       "    </tr>\n",
       "  </thead>\n",
       "  <tbody>\n",
       "    <tr>\n",
       "      <th>0</th>\n",
       "      <td>29</td>\n",
       "      <td>Sales</td>\n",
       "      <td>12</td>\n",
       "      <td>38</td>\n",
       "      <td>No</td>\n",
       "      <td>3</td>\n",
       "      <td>No</td>\n",
       "    </tr>\n",
       "    <tr>\n",
       "      <th>1</th>\n",
       "      <td>23</td>\n",
       "      <td>Finance</td>\n",
       "      <td>12</td>\n",
       "      <td>98</td>\n",
       "      <td>No</td>\n",
       "      <td>1</td>\n",
       "      <td>Yes</td>\n",
       "    </tr>\n",
       "    <tr>\n",
       "      <th>2</th>\n",
       "      <td>39</td>\n",
       "      <td>Tech</td>\n",
       "      <td>19</td>\n",
       "      <td>46</td>\n",
       "      <td>No</td>\n",
       "      <td>1</td>\n",
       "      <td>No</td>\n",
       "    </tr>\n",
       "    <tr>\n",
       "      <th>3</th>\n",
       "      <td>37</td>\n",
       "      <td>Finance</td>\n",
       "      <td>14</td>\n",
       "      <td>46</td>\n",
       "      <td>No</td>\n",
       "      <td>5</td>\n",
       "      <td>Yes</td>\n",
       "    </tr>\n",
       "    <tr>\n",
       "      <th>4</th>\n",
       "      <td>36</td>\n",
       "      <td>Tech</td>\n",
       "      <td>16</td>\n",
       "      <td>90</td>\n",
       "      <td>No</td>\n",
       "      <td>4</td>\n",
       "      <td>Yes</td>\n",
       "    </tr>\n",
       "  </tbody>\n",
       "</table>\n",
       "</div>"
      ],
      "text/plain": [
       "   Age Department  Years_At_Company  Salary Overtime  JobSatisfaction  \\\n",
       "0   29      Sales                12      38       No                3   \n",
       "1   23    Finance                12      98       No                1   \n",
       "2   39       Tech                19      46       No                1   \n",
       "3   37    Finance                14      46       No                5   \n",
       "4   36       Tech                16      90       No                4   \n",
       "\n",
       "  Attrition  \n",
       "0        No  \n",
       "1       Yes  \n",
       "2        No  \n",
       "3       Yes  \n",
       "4       Yes  "
      ]
     },
     "execution_count": 2,
     "metadata": {},
     "output_type": "execute_result"
    }
   ],
   "source": [
    "#2. Display the first 5 rows and describe each feature.\n",
    "df.head()"
   ]
  },
  {
   "cell_type": "code",
   "execution_count": 3,
   "id": "31c30718-4d23-41b5-9359-7edc31a4db86",
   "metadata": {},
   "outputs": [
    {
     "data": {
      "text/plain": [
       "(50, 7)"
      ]
     },
     "execution_count": 3,
     "metadata": {},
     "output_type": "execute_result"
    }
   ],
   "source": [
    "#3. Check for missing values and handle them if any.\n",
    "df.shape"
   ]
  },
  {
   "cell_type": "code",
   "execution_count": 4,
   "id": "9e4c9d8d-6e83-4e0a-8c77-09c1dbcada1d",
   "metadata": {},
   "outputs": [
    {
     "data": {
      "text/plain": [
       "Age                 0\n",
       "Department          0\n",
       "Years_At_Company    0\n",
       "Salary              0\n",
       "Overtime            0\n",
       "JobSatisfaction     0\n",
       "Attrition           0\n",
       "dtype: int64"
      ]
     },
     "execution_count": 4,
     "metadata": {},
     "output_type": "execute_result"
    }
   ],
   "source": [
    "df.isnull().sum()"
   ]
  },
  {
   "cell_type": "code",
   "execution_count": 5,
   "id": "201682de-e321-4e1e-bd12-78490e67edb9",
   "metadata": {},
   "outputs": [
    {
     "data": {
      "text/plain": [
       "0"
      ]
     },
     "execution_count": 5,
     "metadata": {},
     "output_type": "execute_result"
    }
   ],
   "source": [
    "df.duplicated().sum()"
   ]
  },
  {
   "cell_type": "code",
   "execution_count": 6,
   "id": "b15b99e7-62d8-4db6-9f37-e0d528162803",
   "metadata": {},
   "outputs": [
    {
     "name": "stdout",
     "output_type": "stream",
     "text": [
      "<class 'pandas.core.frame.DataFrame'>\n",
      "RangeIndex: 50 entries, 0 to 49\n",
      "Data columns (total 7 columns):\n",
      " #   Column            Non-Null Count  Dtype \n",
      "---  ------            --------------  ----- \n",
      " 0   Age               50 non-null     int64 \n",
      " 1   Department        50 non-null     object\n",
      " 2   Years_At_Company  50 non-null     int64 \n",
      " 3   Salary            50 non-null     int64 \n",
      " 4   Overtime          50 non-null     object\n",
      " 5   JobSatisfaction   50 non-null     int64 \n",
      " 6   Attrition         50 non-null     object\n",
      "dtypes: int64(4), object(3)\n",
      "memory usage: 2.9+ KB\n"
     ]
    }
   ],
   "source": [
    "df.info()"
   ]
  },
  {
   "cell_type": "code",
   "execution_count": 7,
   "id": "7c54c1b1-640e-404b-b11a-6448026f8a0a",
   "metadata": {},
   "outputs": [
    {
     "data": {
      "text/html": [
       "<div>\n",
       "<style scoped>\n",
       "    .dataframe tbody tr th:only-of-type {\n",
       "        vertical-align: middle;\n",
       "    }\n",
       "\n",
       "    .dataframe tbody tr th {\n",
       "        vertical-align: top;\n",
       "    }\n",
       "\n",
       "    .dataframe thead th {\n",
       "        text-align: right;\n",
       "    }\n",
       "</style>\n",
       "<table border=\"1\" class=\"dataframe\">\n",
       "  <thead>\n",
       "    <tr style=\"text-align: right;\">\n",
       "      <th></th>\n",
       "      <th>Age</th>\n",
       "      <th>Years_At_Company</th>\n",
       "      <th>Salary</th>\n",
       "      <th>JobSatisfaction</th>\n",
       "    </tr>\n",
       "  </thead>\n",
       "  <tbody>\n",
       "    <tr>\n",
       "      <th>count</th>\n",
       "      <td>50.00000</td>\n",
       "      <td>50.00000</td>\n",
       "      <td>50.000000</td>\n",
       "      <td>50.000000</td>\n",
       "    </tr>\n",
       "    <tr>\n",
       "      <th>mean</th>\n",
       "      <td>35.22000</td>\n",
       "      <td>10.20000</td>\n",
       "      <td>65.340000</td>\n",
       "      <td>3.080000</td>\n",
       "    </tr>\n",
       "    <tr>\n",
       "      <th>std</th>\n",
       "      <td>8.78842</td>\n",
       "      <td>6.38557</td>\n",
       "      <td>22.293598</td>\n",
       "      <td>1.626816</td>\n",
       "    </tr>\n",
       "    <tr>\n",
       "      <th>min</th>\n",
       "      <td>22.00000</td>\n",
       "      <td>0.00000</td>\n",
       "      <td>30.000000</td>\n",
       "      <td>1.000000</td>\n",
       "    </tr>\n",
       "    <tr>\n",
       "      <th>25%</th>\n",
       "      <td>27.25000</td>\n",
       "      <td>5.00000</td>\n",
       "      <td>46.000000</td>\n",
       "      <td>1.250000</td>\n",
       "    </tr>\n",
       "    <tr>\n",
       "      <th>50%</th>\n",
       "      <td>35.50000</td>\n",
       "      <td>10.00000</td>\n",
       "      <td>60.500000</td>\n",
       "      <td>3.000000</td>\n",
       "    </tr>\n",
       "    <tr>\n",
       "      <th>75%</th>\n",
       "      <td>42.25000</td>\n",
       "      <td>16.00000</td>\n",
       "      <td>86.750000</td>\n",
       "      <td>5.000000</td>\n",
       "    </tr>\n",
       "    <tr>\n",
       "      <th>max</th>\n",
       "      <td>54.00000</td>\n",
       "      <td>20.00000</td>\n",
       "      <td>100.000000</td>\n",
       "      <td>5.000000</td>\n",
       "    </tr>\n",
       "  </tbody>\n",
       "</table>\n",
       "</div>"
      ],
      "text/plain": [
       "            Age  Years_At_Company      Salary  JobSatisfaction\n",
       "count  50.00000          50.00000   50.000000        50.000000\n",
       "mean   35.22000          10.20000   65.340000         3.080000\n",
       "std     8.78842           6.38557   22.293598         1.626816\n",
       "min    22.00000           0.00000   30.000000         1.000000\n",
       "25%    27.25000           5.00000   46.000000         1.250000\n",
       "50%    35.50000          10.00000   60.500000         3.000000\n",
       "75%    42.25000          16.00000   86.750000         5.000000\n",
       "max    54.00000          20.00000  100.000000         5.000000"
      ]
     },
     "execution_count": 7,
     "metadata": {},
     "output_type": "execute_result"
    }
   ],
   "source": [
    "df.describe()"
   ]
  },
  {
   "cell_type": "code",
   "execution_count": 8,
   "id": "6771bd10-3d76-4ab7-9781-77be41636295",
   "metadata": {},
   "outputs": [],
   "source": [
    "#Step 2: Data Preprocessing\n",
    "#4. Convert categorical variables (Department, Overtime) into numerical form.\n",
    "from sklearn.preprocessing import LabelEncoder\n",
    "le = LabelEncoder()\n",
    "df[\"Department\"] = le.fit_transform(df[\"Department\"]) \n",
    "df[\"Overtime\"] = le.fit_transform(df[\"Overtime\"])   "
   ]
  },
  {
   "cell_type": "code",
   "execution_count": 9,
   "id": "0a18bc2d-1a36-4efe-a801-59d46c48fb4d",
   "metadata": {},
   "outputs": [],
   "source": [
    "#5.Split the dataset into features (X) and target (y).\n",
    "X = df.drop(\"Attrition\", axis=1)\n",
    "y = df[\"Attrition\"]"
   ]
  },
  {
   "cell_type": "code",
   "execution_count": 10,
   "id": "b3779a62-f3de-416f-9e0c-c6b68a7dd235",
   "metadata": {},
   "outputs": [],
   "source": [
    "#6. Perform train-test split (70% train, 30% test).\n",
    "from sklearn.model_selection import train_test_split\n",
    "X_train, X_test, y_train, y_test = train_test_split(X, y, test_size=0.3, random_state=42)"
   ]
  },
  {
   "cell_type": "code",
   "execution_count": 11,
   "id": "cc0f823a-19c6-4d6d-a2c3-3f6301fa76b9",
   "metadata": {},
   "outputs": [
    {
     "data": {
      "text/html": [
       "<style>#sk-container-id-1 {color: black;background-color: white;}#sk-container-id-1 pre{padding: 0;}#sk-container-id-1 div.sk-toggleable {background-color: white;}#sk-container-id-1 label.sk-toggleable__label {cursor: pointer;display: block;width: 100%;margin-bottom: 0;padding: 0.3em;box-sizing: border-box;text-align: center;}#sk-container-id-1 label.sk-toggleable__label-arrow:before {content: \"▸\";float: left;margin-right: 0.25em;color: #696969;}#sk-container-id-1 label.sk-toggleable__label-arrow:hover:before {color: black;}#sk-container-id-1 div.sk-estimator:hover label.sk-toggleable__label-arrow:before {color: black;}#sk-container-id-1 div.sk-toggleable__content {max-height: 0;max-width: 0;overflow: hidden;text-align: left;background-color: #f0f8ff;}#sk-container-id-1 div.sk-toggleable__content pre {margin: 0.2em;color: black;border-radius: 0.25em;background-color: #f0f8ff;}#sk-container-id-1 input.sk-toggleable__control:checked~div.sk-toggleable__content {max-height: 200px;max-width: 100%;overflow: auto;}#sk-container-id-1 input.sk-toggleable__control:checked~label.sk-toggleable__label-arrow:before {content: \"▾\";}#sk-container-id-1 div.sk-estimator input.sk-toggleable__control:checked~label.sk-toggleable__label {background-color: #d4ebff;}#sk-container-id-1 div.sk-label input.sk-toggleable__control:checked~label.sk-toggleable__label {background-color: #d4ebff;}#sk-container-id-1 input.sk-hidden--visually {border: 0;clip: rect(1px 1px 1px 1px);clip: rect(1px, 1px, 1px, 1px);height: 1px;margin: -1px;overflow: hidden;padding: 0;position: absolute;width: 1px;}#sk-container-id-1 div.sk-estimator {font-family: monospace;background-color: #f0f8ff;border: 1px dotted black;border-radius: 0.25em;box-sizing: border-box;margin-bottom: 0.5em;}#sk-container-id-1 div.sk-estimator:hover {background-color: #d4ebff;}#sk-container-id-1 div.sk-parallel-item::after {content: \"\";width: 100%;border-bottom: 1px solid gray;flex-grow: 1;}#sk-container-id-1 div.sk-label:hover label.sk-toggleable__label {background-color: #d4ebff;}#sk-container-id-1 div.sk-serial::before {content: \"\";position: absolute;border-left: 1px solid gray;box-sizing: border-box;top: 0;bottom: 0;left: 50%;z-index: 0;}#sk-container-id-1 div.sk-serial {display: flex;flex-direction: column;align-items: center;background-color: white;padding-right: 0.2em;padding-left: 0.2em;position: relative;}#sk-container-id-1 div.sk-item {position: relative;z-index: 1;}#sk-container-id-1 div.sk-parallel {display: flex;align-items: stretch;justify-content: center;background-color: white;position: relative;}#sk-container-id-1 div.sk-item::before, #sk-container-id-1 div.sk-parallel-item::before {content: \"\";position: absolute;border-left: 1px solid gray;box-sizing: border-box;top: 0;bottom: 0;left: 50%;z-index: -1;}#sk-container-id-1 div.sk-parallel-item {display: flex;flex-direction: column;z-index: 1;position: relative;background-color: white;}#sk-container-id-1 div.sk-parallel-item:first-child::after {align-self: flex-end;width: 50%;}#sk-container-id-1 div.sk-parallel-item:last-child::after {align-self: flex-start;width: 50%;}#sk-container-id-1 div.sk-parallel-item:only-child::after {width: 0;}#sk-container-id-1 div.sk-dashed-wrapped {border: 1px dashed gray;margin: 0 0.4em 0.5em 0.4em;box-sizing: border-box;padding-bottom: 0.4em;background-color: white;}#sk-container-id-1 div.sk-label label {font-family: monospace;font-weight: bold;display: inline-block;line-height: 1.2em;}#sk-container-id-1 div.sk-label-container {text-align: center;}#sk-container-id-1 div.sk-container {/* jupyter's `normalize.less` sets `[hidden] { display: none; }` but bootstrap.min.css set `[hidden] { display: none !important; }` so we also need the `!important` here to be able to override the default hidden behavior on the sphinx rendered scikit-learn.org. See: https://github.com/scikit-learn/scikit-learn/issues/21755 */display: inline-block !important;position: relative;}#sk-container-id-1 div.sk-text-repr-fallback {display: none;}</style><div id=\"sk-container-id-1\" class=\"sk-top-container\"><div class=\"sk-text-repr-fallback\"><pre>RandomForestClassifier(random_state=42)</pre><b>In a Jupyter environment, please rerun this cell to show the HTML representation or trust the notebook. <br />On GitHub, the HTML representation is unable to render, please try loading this page with nbviewer.org.</b></div><div class=\"sk-container\" hidden><div class=\"sk-item\"><div class=\"sk-estimator sk-toggleable\"><input class=\"sk-toggleable__control sk-hidden--visually\" id=\"sk-estimator-id-1\" type=\"checkbox\" checked><label for=\"sk-estimator-id-1\" class=\"sk-toggleable__label sk-toggleable__label-arrow\">RandomForestClassifier</label><div class=\"sk-toggleable__content\"><pre>RandomForestClassifier(random_state=42)</pre></div></div></div></div></div>"
      ],
      "text/plain": [
       "RandomForestClassifier(random_state=42)"
      ]
     },
     "execution_count": 11,
     "metadata": {},
     "output_type": "execute_result"
    }
   ],
   "source": [
    "#Step 3: Model Building\n",
    "#7. Train a Random Forest Classifier on the training set.\n",
    "from sklearn.ensemble import RandomForestClassifier\n",
    "rfc = RandomForestClassifier(random_state=42)\n",
    "rfc.fit(X_train, y_train)\n"
   ]
  },
  {
   "cell_type": "code",
   "execution_count": 13,
   "id": "e8122161-9649-4c35-bf65-c8811edbfc8b",
   "metadata": {},
   "outputs": [
    {
     "name": "stdout",
     "output_type": "stream",
     "text": [
      "Number of trees: 100\n",
      "Number of features: 6\n"
     ]
    }
   ],
   "source": [
    "#8. Print the number of trees and features used in training.\n",
    "print(\"Number of trees:\", len(rfc.estimators_))\n",
    "print(\"Number of features:\", rfc.n_features_in_)\n"
   ]
  },
  {
   "cell_type": "code",
   "execution_count": 14,
   "id": "93775884-1ff1-4afb-bd0c-ebdc02deb6d2",
   "metadata": {},
   "outputs": [],
   "source": [
    "#Step 4: Model Evaluation\n",
    "#9. Predict on the test set.\n",
    "y_pred = rfc.predict(X_test)"
   ]
  },
  {
   "cell_type": "code",
   "execution_count": 15,
   "id": "342e7b45-028f-4bd3-b6bb-9e787f6f2eae",
   "metadata": {},
   "outputs": [
    {
     "name": "stdout",
     "output_type": "stream",
     "text": [
      "Accuracy: 0.5333333333333333\n",
      "Confusion Matrix:\n",
      " [[4 3]\n",
      " [4 4]]\n",
      "Classification Report:\n",
      "               precision    recall  f1-score   support\n",
      "\n",
      "           0       0.50      0.57      0.53         7\n",
      "           1       0.57      0.50      0.53         8\n",
      "\n",
      "    accuracy                           0.53        15\n",
      "   macro avg       0.54      0.54      0.53        15\n",
      "weighted avg       0.54      0.53      0.53        15\n",
      "\n"
     ]
    }
   ],
   "source": [
    "#10. Evaluate performance using accuracy, confusion matrix, and classification report.\n",
    "from sklearn.metrics import accuracy_score, confusion_matrix, classification_report\n",
    "\n",
    "print(\"Accuracy:\", accuracy_score(y_test, y_pred))\n",
    "print(\"Confusion Matrix:\\n\", confusion_matrix(y_test, y_pred))\n",
    "print(\"Classification Report:\\n\", classification_report(y_test, y_pred))"
   ]
  },
  {
   "cell_type": "code",
   "execution_count": 16,
   "id": "d15a4b5c-9d9c-420e-a887-9643e1b0d297",
   "metadata": {},
   "outputs": [
    {
     "name": "stdout",
     "output_type": "stream",
     "text": [
      "Tuned Accuracy: 0.3333333333333333\n"
     ]
    }
   ],
   "source": [
    "#Step 5: Model Tuning\n",
    "#11. Experiment with n_estimators, max_depth, and criterion. Compare results.\n",
    "rfc_tuned = RandomForestClassifier(n_estimators=200, max_depth=5, criterion=\"entropy\", random_state=42)\n",
    "rfc_tuned.fit(X_train, y_train)\n",
    "y_pred_tuned = rfc_tuned.predict(X_test)\n",
    "\n",
    "print(\"Tuned Accuracy:\", accuracy_score(y_test, y_pred_tuned))"
   ]
  },
  {
   "cell_type": "code",
   "execution_count": 17,
   "id": "ecf64475-4d24-4b44-b8d7-7ec764c3a379",
   "metadata": {},
   "outputs": [
    {
     "name": "stdout",
     "output_type": "stream",
     "text": [
      "{'Age': 0.226, 'Department': 0.091, 'Years_At_Company': 0.244, 'Salary': 0.237, 'Overtime': 0.044, 'JobSatisfaction': 0.159}\n"
     ]
    }
   ],
   "source": [
    "#12. Check feature importances and identify the most important predictors of attrition.\n",
    "import numpy as np\n",
    "importances = rfc_tuned.feature_importances_\n",
    "print(dict(zip(X.columns, np.round(importances, 3))))\n"
   ]
  },
  {
   "cell_type": "code",
   "execution_count": 18,
   "id": "53355a3e-7e75-47ce-8aa7-9f8e164b0016",
   "metadata": {},
   "outputs": [
    {
     "name": "stdout",
     "output_type": "stream",
     "text": [
      "Top predictors of attrition: Index(['Age', 'Salary', 'Years_At_Company'], dtype='object')\n"
     ]
    }
   ],
   "source": [
    "#Step 6: Insights & Conclusion\n",
    "#13. Which features influence employee attrition the most?\n",
    "print(\"Top predictors of attrition:\", X.columns[np.argsort(importances)[-3:]])"
   ]
  },
  {
   "cell_type": "code",
   "execution_count": 19,
   "id": "775a4c59-ec42-4be3-bd33-29200c0762ce",
   "metadata": {},
   "outputs": [
    {
     "name": "stdout",
     "output_type": "stream",
     "text": [
      "If I were HR, I would focus on reducing overtime, improving work-life balance and supporting departments with high attrition risk.\n"
     ]
    }
   ],
   "source": [
    "#14. If you were the HR manager, how would you use these insights to reduce attrition?\n",
    "print(\"If I were HR, I would focus on reducing overtime, improving work-life balance and supporting departments with high attrition risk.\")\n"
   ]
  },
  {
   "cell_type": "code",
   "execution_count": null,
   "id": "48f4cb90-9e16-447f-af84-ebe09bfa7d26",
   "metadata": {},
   "outputs": [],
   "source": []
  }
 ],
 "metadata": {
  "kernelspec": {
   "display_name": "Python 3 (ipykernel)",
   "language": "python",
   "name": "python3"
  },
  "language_info": {
   "codemirror_mode": {
    "name": "ipython",
    "version": 3
   },
   "file_extension": ".py",
   "mimetype": "text/x-python",
   "name": "python",
   "nbconvert_exporter": "python",
   "pygments_lexer": "ipython3",
   "version": "3.11.7"
  }
 },
 "nbformat": 4,
 "nbformat_minor": 5
}
