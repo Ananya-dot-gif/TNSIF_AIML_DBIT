{
 "cells": [
  {
   "cell_type": "code",
   "execution_count": 1,
   "id": "ce5aa992-e81d-4c16-b92c-c596418828cf",
   "metadata": {},
   "outputs": [
    {
     "name": "stdout",
     "output_type": "stream",
     "text": [
      "Enter 10 elements\n"
     ]
    },
    {
     "name": "stdin",
     "output_type": "stream",
     "text": [
      "enterelement0: 2\n",
      "enterelement1: 34\n",
      "enterelement2: 56\n",
      "enterelement3: 22\n",
      "enterelement4: 34\n",
      "enterelement5: 67\n",
      "enterelement6: 34\n",
      "enterelement7: 22\n",
      "enterelement8: 11\n",
      "enterelement9: 33\n"
     ]
    },
    {
     "name": "stdout",
     "output_type": "stream",
     "text": [
      "List [2, 34, 56, 22, 34, 67, 34, 22, 11, 33]\n",
      "List after removing [2, 34, 22, 34, 34, 22]\n"
     ]
    }
   ],
   "source": [
    "# Accept a list with numbers having 10 elements. Remove the third element and all odd elements.\n",
    "l1=[]\n",
    "l2=[]\n",
    "print(\"Enter 10 elements\")\n",
    "for i in range(10):\n",
    "    s='enterelement'+str(i)+':'\n",
    "    ele=int(input(s))\n",
    "    l1=l1+[ele]\n",
    "print(\"List\",l1)\n",
    "l1.pop(2)\n",
    "for i in range(9):\n",
    "    if l1[i]%2==0:\n",
    "        l2.append(l1[i])\n",
    "print(\"List after removing\",l2)"
   ]
  },
  {
   "cell_type": "code",
   "execution_count": 2,
   "id": "ff3be120-9c1f-4ee7-92c4-382897022721",
   "metadata": {},
   "outputs": [
    {
     "data": {
      "text/plain": [
       "[20, 21, 22, 23, 24]"
      ]
     },
     "execution_count": 2,
     "metadata": {},
     "output_type": "execute_result"
    }
   ],
   "source": [
    "li=list(range(20,25))\n",
    "li"
   ]
  },
  {
   "cell_type": "code",
   "execution_count": 3,
   "id": "0c5d88ba-daa9-48a0-8c7d-0f9f654d6e96",
   "metadata": {},
   "outputs": [
    {
     "data": {
      "text/plain": [
       "[24, 23, 22, 21, 20]"
      ]
     },
     "execution_count": 3,
     "metadata": {},
     "output_type": "execute_result"
    }
   ],
   "source": [
    "li.reverse()\n",
    "li"
   ]
  },
  {
   "cell_type": "code",
   "execution_count": 4,
   "id": "84f97f48-5181-4f7c-a369-49e445f9cf21",
   "metadata": {},
   "outputs": [
    {
     "data": {
      "text/plain": [
       "[34, 32, 56, 78, 12]"
      ]
     },
     "execution_count": 4,
     "metadata": {},
     "output_type": "execute_result"
    }
   ],
   "source": [
    "li1=[34,32,56,78,12]\n",
    "li1"
   ]
  },
  {
   "cell_type": "code",
   "execution_count": 5,
   "id": "a5ae8e23-27f7-420d-819b-6ef82f092a75",
   "metadata": {},
   "outputs": [
    {
     "data": {
      "text/plain": [
       "[12, 32, 34, 56, 78]"
      ]
     },
     "execution_count": 5,
     "metadata": {},
     "output_type": "execute_result"
    }
   ],
   "source": [
    "li1.sort()\n",
    "li1"
   ]
  },
  {
   "cell_type": "code",
   "execution_count": 6,
   "id": "f00e0067-22dc-4254-928f-2365ae96831e",
   "metadata": {},
   "outputs": [
    {
     "data": {
      "text/plain": [
       "['p', 'd', 'a', 'f', 'a', 'n']"
      ]
     },
     "execution_count": 6,
     "metadata": {},
     "output_type": "execute_result"
    }
   ],
   "source": [
    "k=['a','p','d','a','f','a','n']\n",
    "k.remove('a')  #only first occurance of 'a' is removed\n",
    "k"
   ]
  },
  {
   "cell_type": "code",
   "execution_count": 7,
   "id": "76006c2e-8d0f-4d43-9c60-38081ec09938",
   "metadata": {},
   "outputs": [
    {
     "data": {
      "text/plain": [
       "['n', 'a', 'f', 'a', 'd', 'p']"
      ]
     },
     "execution_count": 7,
     "metadata": {},
     "output_type": "execute_result"
    }
   ],
   "source": [
    "k.reverse()\n",
    "k"
   ]
  },
  {
   "cell_type": "code",
   "execution_count": 8,
   "id": "27c3db11-6401-4fb4-8b29-601e03f344c7",
   "metadata": {},
   "outputs": [
    {
     "data": {
      "text/plain": [
       "['n', 'f', 'a', 'd', 'p']"
      ]
     },
     "execution_count": 8,
     "metadata": {},
     "output_type": "execute_result"
    }
   ],
   "source": [
    "k.remove('a')\n",
    "k"
   ]
  },
  {
   "cell_type": "code",
   "execution_count": 9,
   "id": "0bbab46d-565b-4756-8e3d-e2aef13dce73",
   "metadata": {},
   "outputs": [
    {
     "data": {
      "text/plain": [
       "{1: 'one', 2: 'two', 3: 'three'}"
      ]
     },
     "execution_count": 9,
     "metadata": {},
     "output_type": "execute_result"
    }
   ],
   "source": [
    "#Dictionaries\n",
    "a={1:\"one\",2:\"two\",3:\"three\"}\n",
    "a"
   ]
  },
  {
   "cell_type": "code",
   "execution_count": 10,
   "id": "bd75b4db-a933-42cc-a7bd-65b017b4d554",
   "metadata": {},
   "outputs": [
    {
     "data": {
      "text/plain": [
       "dict_values(['one', 'two', 'three'])"
      ]
     },
     "execution_count": 10,
     "metadata": {},
     "output_type": "execute_result"
    }
   ],
   "source": [
    "a1=a.values()\n",
    "a1"
   ]
  },
  {
   "cell_type": "code",
   "execution_count": null,
   "id": "8947e56a-e3d7-4bd7-baf1-e63025bd4f88",
   "metadata": {},
   "outputs": [],
   "source": []
  }
 ],
 "metadata": {
  "kernelspec": {
   "display_name": "Python 3 (ipykernel)",
   "language": "python",
   "name": "python3"
  },
  "language_info": {
   "codemirror_mode": {
    "name": "ipython",
    "version": 3
   },
   "file_extension": ".py",
   "mimetype": "text/x-python",
   "name": "python",
   "nbconvert_exporter": "python",
   "pygments_lexer": "ipython3",
   "version": "3.11.7"
  }
 },
 "nbformat": 4,
 "nbformat_minor": 5
}
