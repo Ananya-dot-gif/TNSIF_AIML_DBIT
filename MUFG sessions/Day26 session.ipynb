{
 "cells": [
  {
   "cell_type": "code",
   "execution_count": 1,
   "id": "768ec32f-8b6f-408d-8453-94abf68ffbf8",
   "metadata": {},
   "outputs": [],
   "source": [
    "# Keras GRU model for IMDB sentiment classification.\n",
    "from tensorflow.keras.models import Sequential\n",
    "from tensorflow.keras.layers import Embedding, GRU, Dense\n",
    "from tensorflow.keras.datasets import imdb\n",
    "from tensorflow.keras.preprocessing import sequence\n",
    "\n",
    "# Step 1: Load IMDB dataset\n",
    "max_features = 10000   # number of words to consider\n",
    "max_len = 200          # max words per review\n",
    "\n",
    "(x_train, y_train), (x_test, y_test) = imdb.load_data(num_words=max_features)\n",
    "\n",
    "# Pad sequences to have the same length\n",
    "x_train = sequence.pad_sequences(x_train, maxlen=max_len)\n",
    "x_test = sequence.pad_sequences(x_test, maxlen=max_len)"
   ]
  },
  {
   "cell_type": "code",
   "execution_count": 2,
   "id": "93ad9893-4b27-4f75-bb0e-22d5535f3c34",
   "metadata": {},
   "outputs": [],
   "source": [
    "# Step 2: Build GRU model\n",
    "model = Sequential()\n",
    "model.add(Embedding(max_features, 128))                  # word embeddings\n",
    "model.add(GRU(128, dropout=0.2, recurrent_dropout=0.2))  # GRU layer\n",
    "model.add(Dense(1, activation='sigmoid'))                # Output layer"
   ]
  },
  {
   "cell_type": "code",
   "execution_count": 3,
   "id": "55a0ad35-304f-41d0-9415-25bce7a1f75a",
   "metadata": {},
   "outputs": [],
   "source": [
    "# Step 3: Compile\n",
    "model.compile(loss='binary_crossentropy',\n",
    "              optimizer='adam',\n",
    "              metrics=['accuracy'])"
   ]
  },
  {
   "cell_type": "code",
   "execution_count": 4,
   "id": "575d7455-d757-463a-87c1-e9cfb0079828",
   "metadata": {},
   "outputs": [
    {
     "name": "stdout",
     "output_type": "stream",
     "text": [
      "Epoch 1/3\n",
      "\u001b[1m782/782\u001b[0m \u001b[32m━━━━━━━━━━━━━━━━━━━━\u001b[0m\u001b[37m\u001b[0m \u001b[1m277s\u001b[0m 343ms/step - accuracy: 0.6185 - loss: 269065152.0000 - val_accuracy: 0.6527 - val_loss: 0.6047\n",
      "Epoch 2/3\n",
      "\u001b[1m782/782\u001b[0m \u001b[32m━━━━━━━━━━━━━━━━━━━━\u001b[0m\u001b[37m\u001b[0m \u001b[1m255s\u001b[0m 325ms/step - accuracy: 0.7070 - loss: 92894715904.0000 - val_accuracy: 0.6511 - val_loss: 0.6059\n",
      "Epoch 3/3\n",
      "\u001b[1m782/782\u001b[0m \u001b[32m━━━━━━━━━━━━━━━━━━━━\u001b[0m\u001b[37m\u001b[0m \u001b[1m271s\u001b[0m 347ms/step - accuracy: 0.7558 - loss: 0.5301 - val_accuracy: 0.6587 - val_loss: 0.6027\n"
     ]
    },
    {
     "data": {
      "text/plain": [
       "<keras.src.callbacks.history.History at 0x23e252dac10>"
      ]
     },
     "execution_count": 4,
     "metadata": {},
     "output_type": "execute_result"
    }
   ],
   "source": [
    "# Step 4: Train\n",
    "model.fit(x_train, y_train,\n",
    "          batch_size=32,\n",
    "          epochs=3,\n",
    "          validation_data=(x_test, y_test))"
   ]
  },
  {
   "cell_type": "code",
   "execution_count": 5,
   "id": "68a37c88-39c3-419f-9a16-a2d2dd4af1a5",
   "metadata": {},
   "outputs": [
    {
     "name": "stdout",
     "output_type": "stream",
     "text": [
      "\u001b[1m782/782\u001b[0m \u001b[32m━━━━━━━━━━━━━━━━━━━━\u001b[0m\u001b[37m\u001b[0m \u001b[1m66s\u001b[0m 84ms/step - accuracy: 0.6556 - loss: 0.6081\n",
      "Test Accuracy: 0.6587200164794922\n"
     ]
    }
   ],
   "source": [
    "# Step 5: Evaluate\n",
    "loss, acc = model.evaluate(x_test, y_test)\n",
    "print(\"Test Accuracy:\", acc)"
   ]
  }
 ],
 "metadata": {
  "kernelspec": {
   "display_name": "Python 3 (ipykernel)",
   "language": "python",
   "name": "python3"
  },
  "language_info": {
   "codemirror_mode": {
    "name": "ipython",
    "version": 3
   },
   "file_extension": ".py",
   "mimetype": "text/x-python",
   "name": "python",
   "nbconvert_exporter": "python",
   "pygments_lexer": "ipython3",
   "version": "3.11.7"
  }
 },
 "nbformat": 4,
 "nbformat_minor": 5
}
