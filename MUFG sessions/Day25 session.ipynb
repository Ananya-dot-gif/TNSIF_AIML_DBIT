{
 "cells": [
  {
   "cell_type": "code",
   "execution_count": 1,
   "id": "4bb89218-9036-4d82-b6f7-20bf6c417413",
   "metadata": {},
   "outputs": [
    {
     "name": "stdout",
     "output_type": "stream",
     "text": [
      "Training samples: 25000\n",
      "Test samples: 25000\n",
      "Training shape: (25000, 500)\n",
      "Testing shape: (25000, 500)\n"
     ]
    }
   ],
   "source": [
    "import tensorflow as tf\n",
    "from tensorflow.keras.models import Sequential\n",
    "from tensorflow.keras.layers import Embedding, LSTM, Dense\n",
    "from tensorflow.keras.datasets import imdb\n",
    "from tensorflow.keras.preprocessing import sequence\n",
    "\n",
    "max_features = 5000   # top 5000 words\n",
    "(x_train, y_train), (x_test, y_test) = imdb.load_data(num_words=max_features)\n",
    "\n",
    "print(\"Training samples:\", len(x_train))\n",
    "print(\"Test samples:\", len(x_test))\n",
    "\n",
    "max_len = 500\n",
    "x_train = sequence.pad_sequences(x_train, maxlen=max_len)\n",
    "x_test = sequence.pad_sequences(x_test, maxlen=max_len)\n",
    "\n",
    "print(\"Training shape:\", x_train.shape)\n",
    "print(\"Testing shape:\", x_test.shape)\n",
    "\n"
   ]
  },
  {
   "cell_type": "code",
   "execution_count": 2,
   "id": "c91b846f-214c-458a-bbc9-ddf2c8599fc5",
   "metadata": {},
   "outputs": [
    {
     "name": "stdout",
     "output_type": "stream",
     "text": [
      "Epoch 1/5\n"
     ]
    },
    {
     "name": "stderr",
     "output_type": "stream",
     "text": [
      "C:\\Users\\Admin\\AppData\\Local\\anaconda3\\New folder\\Lib\\site-packages\\keras\\src\\layers\\core\\embedding.py:90: UserWarning: Argument `input_length` is deprecated. Just remove it.\n",
      "  warnings.warn(\n"
     ]
    },
    {
     "name": "stdout",
     "output_type": "stream",
     "text": [
      "391/391 - 570s - 1s/step - accuracy: 0.7800 - loss: 0.4651 - val_accuracy: 0.8461 - val_loss: 0.3611\n",
      "Epoch 2/5\n",
      "391/391 - 492s - 1s/step - accuracy: 0.8548 - loss: 0.3432 - val_accuracy: 0.8600 - val_loss: 0.3409\n",
      "Epoch 3/5\n",
      "391/391 - 461s - 1s/step - accuracy: 0.8876 - loss: 0.2786 - val_accuracy: 0.8453 - val_loss: 0.3565\n",
      "Epoch 4/5\n",
      "391/391 - 626s - 2s/step - accuracy: 0.9136 - loss: 0.2234 - val_accuracy: 0.8669 - val_loss: 0.3594\n",
      "Epoch 5/5\n",
      "391/391 - 531s - 1s/step - accuracy: 0.9100 - loss: 0.2254 - val_accuracy: 0.8723 - val_loss: 0.3362\n",
      "391/391 - 95s - 244ms/step - accuracy: 0.8723 - loss: 0.3362\n",
      "Test Loss: 0.33616217970848083\n",
      "Test Accuracy: 0.8723199963569641\n"
     ]
    }
   ],
   "source": [
    "model = Sequential()\n",
    "\n",
    "model.add(Embedding(max_features, 128, input_length=max_len))\n",
    "\n",
    "model.add(LSTM(100))  # 100 memory cells\n",
    "\n",
    "model.add(Dense(1, activation='sigmoid'))  # binary classification\n",
    "\n",
    "model.compile(loss='binary_crossentropy',\n",
    "              optimizer='adam',\n",
    "              metrics=['accuracy'])\n",
    "\n",
    "batch_size = 64\n",
    "epochs = 5\n",
    "\n",
    "history = model.fit(x_train, y_train,\n",
    "                    batch_size=batch_size,\n",
    "                    epochs=epochs,\n",
    "                    validation_data=(x_test, y_test),\n",
    "                    verbose=2)\n",
    "\n",
    "score, acc = model.evaluate(x_test, y_test, batch_size=batch_size, verbose=2)\n",
    "print(\"Test Loss:\", score)\n",
    "print(\"Test Accuracy:\", acc)\n"
   ]
  },
  {
   "cell_type": "code",
   "execution_count": null,
   "id": "867a49cf-50a1-4468-9f8a-7f44e36e8a95",
   "metadata": {},
   "outputs": [],
   "source": []
  }
 ],
 "metadata": {
  "kernelspec": {
   "display_name": "Python 3 (ipykernel)",
   "language": "python",
   "name": "python3"
  },
  "language_info": {
   "codemirror_mode": {
    "name": "ipython",
    "version": 3
   },
   "file_extension": ".py",
   "mimetype": "text/x-python",
   "name": "python",
   "nbconvert_exporter": "python",
   "pygments_lexer": "ipython3",
   "version": "3.11.7"
  }
 },
 "nbformat": 4,
 "nbformat_minor": 5
}
